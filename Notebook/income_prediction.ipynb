{
 "cells": [
  {
   "cell_type": "code",
   "execution_count": 1,
   "outputs": [],
   "source": [
    "import pandas as pd\n",
    "import numpy as np\n",
    "import matplotlib.pyplot as plt\n",
    "import seaborn as sns\n",
    "import imblearn\n",
    "import warnings\n",
    "warnings.filterwarnings('ignore')\n",
    "# pd.set_option('display.max_columns', None)\n",
    "# pd.set_option('display.max_rows', None)"
   ],
   "metadata": {
    "collapsed": false,
    "pycharm": {
     "name": "#%%\n"
    }
   }
  },
  {
   "cell_type": "code",
   "execution_count": 2,
   "outputs": [],
   "source": [
    "train_df = pd.read_csv(\"../Dataset/Train.csv\",na_values=' ?')\n",
    "test_df = pd.read_csv(\"../Dataset/Test.csv\",na_values=' ?')"
   ],
   "metadata": {
    "collapsed": false,
    "pycharm": {
     "name": "#%%\n"
    }
   }
  },
  {
   "cell_type": "code",
   "execution_count": 3,
   "outputs": [],
   "source": [
    "train_df =train_df.drop(\"ID\",axis=1)\n",
    "test_df = test_df.drop(\"ID\",axis=1)"
   ],
   "metadata": {
    "collapsed": false,
    "pycharm": {
     "name": "#%%\n"
    }
   }
  },
  {
   "cell_type": "code",
   "execution_count": 4,
   "outputs": [
    {
     "data": {
      "text/plain": "        age   gender                    education                class  \\\n0        79   Female         High school graduate                  NaN   \n1        65   Female         High school graduate                  NaN   \n2        21     Male        12th grade no diploma   Federal government   \n3         2   Female                     Children                  NaN   \n4        70     Male         High school graduate                  NaN   \n...     ...      ...                          ...                  ...   \n209494   16   Female            7th and 8th grade                  NaN   \n209495   78     Male   Bachelors degree(BA AB BS)                  NaN   \n209496    8   Female                     Children                  NaN   \n209497   26   Female   Some college but no degree              Private   \n209498   19     Male                   11th grade     Local government   \n\n       education_institute                    marital_status  \\\n0                      NaN                           Widowed   \n1                      NaN                           Widowed   \n2                      NaN                     Never married   \n3                      NaN                     Never married   \n4                      NaN   Married-civilian spouse present   \n...                    ...                               ...   \n209494         High school                     Never married   \n209495                 NaN   Married-civilian spouse present   \n209496                 NaN                     Never married   \n209497                 NaN   Married-civilian spouse present   \n209498         High school                     Never married   \n\n                              race is_hispanic      employment_commitment  \\\n0                            White   All other         Not in labor force   \n1                            White   All other   Children or Armed Forces   \n2                            Black   All other   Children or Armed Forces   \n3        Asian or Pacific Islander   All other   Children or Armed Forces   \n4                            White   All other         Not in labor force   \n...                            ...         ...                        ...   \n209494                       White   All other         Not in labor force   \n209495                       White   All other         Not in labor force   \n209496                       White   All other   Children or Armed Forces   \n209497                       White   All other   Children or Armed Forces   \n209498                       Black   All other   Children or Armed Forces   \n\n       unemployment_reason  ...  country_of_birth_mother  \\\n0                      NaN  ...                       US   \n1                      NaN  ...                       US   \n2                      NaN  ...                       US   \n3                      NaN  ...                    India   \n4                      NaN  ...                       US   \n...                    ...  ...                      ...   \n209494                 NaN  ...                       US   \n209495                 NaN  ...                   Canada   \n209496                 NaN  ...                       US   \n209497                 NaN  ...                       US   \n209498          Re-entrant  ...                       US   \n\n        migration_code_change_in_msa migration_prev_sunbelt  \\\n0                                NaN                    NaN   \n1                          unchanged                    NaN   \n2                          unchanged                    NaN   \n3                          unchanged                    NaN   \n4                                NaN                    NaN   \n...                              ...                    ...   \n209494                           NaN                    NaN   \n209495                           NaN                    NaN   \n209496                           NaN                    NaN   \n209497                     unchanged                    NaN   \n209498                    MSA to MSA                   Same   \n\n        migration_code_move_within_reg  migration_code_change_in_reg  \\\n0                                  NaN                           NaN   \n1                            unchanged                     unchanged   \n2                            unchanged                     unchanged   \n3                            unchanged                     unchanged   \n4                                  NaN                           NaN   \n...                                ...                           ...   \n209494                             NaN                           NaN   \n209495                             NaN                           NaN   \n209496                             NaN                           NaN   \n209497                       unchanged                     unchanged   \n209498                     Same county                   Same county   \n\n       residence_1_year_ago  old_residence_reg old_residence_state  \\\n0                       NaN                NaN                 NaN   \n1                      Same                NaN                 NaN   \n2                      Same                NaN                 NaN   \n3                      Same                NaN                 NaN   \n4                       NaN                NaN                 NaN   \n...                     ...                ...                 ...   \n209494                  NaN                NaN                 NaN   \n209495                  NaN                NaN                 NaN   \n209496                  NaN                NaN                 NaN   \n209497                 Same                NaN                 NaN   \n209498                   No              South             Florida   \n\n        importance_of_record income_above_limit  \n0                    1779.74        Below limit  \n1                    2366.75        Below limit  \n2                    1693.42        Below limit  \n3                    1380.27        Below limit  \n4                    1580.79        Below limit  \n...                      ...                ...  \n209494               2170.60        Below limit  \n209495               1029.57        Below limit  \n209496                791.61        Below limit  \n209497               3530.26        Below limit  \n209498               1987.72        Below limit  \n\n[209499 rows x 42 columns]",
      "text/html": "<div>\n<style scoped>\n    .dataframe tbody tr th:only-of-type {\n        vertical-align: middle;\n    }\n\n    .dataframe tbody tr th {\n        vertical-align: top;\n    }\n\n    .dataframe thead th {\n        text-align: right;\n    }\n</style>\n<table border=\"1\" class=\"dataframe\">\n  <thead>\n    <tr style=\"text-align: right;\">\n      <th></th>\n      <th>age</th>\n      <th>gender</th>\n      <th>education</th>\n      <th>class</th>\n      <th>education_institute</th>\n      <th>marital_status</th>\n      <th>race</th>\n      <th>is_hispanic</th>\n      <th>employment_commitment</th>\n      <th>unemployment_reason</th>\n      <th>...</th>\n      <th>country_of_birth_mother</th>\n      <th>migration_code_change_in_msa</th>\n      <th>migration_prev_sunbelt</th>\n      <th>migration_code_move_within_reg</th>\n      <th>migration_code_change_in_reg</th>\n      <th>residence_1_year_ago</th>\n      <th>old_residence_reg</th>\n      <th>old_residence_state</th>\n      <th>importance_of_record</th>\n      <th>income_above_limit</th>\n    </tr>\n  </thead>\n  <tbody>\n    <tr>\n      <th>0</th>\n      <td>79</td>\n      <td>Female</td>\n      <td>High school graduate</td>\n      <td>NaN</td>\n      <td>NaN</td>\n      <td>Widowed</td>\n      <td>White</td>\n      <td>All other</td>\n      <td>Not in labor force</td>\n      <td>NaN</td>\n      <td>...</td>\n      <td>US</td>\n      <td>NaN</td>\n      <td>NaN</td>\n      <td>NaN</td>\n      <td>NaN</td>\n      <td>NaN</td>\n      <td>NaN</td>\n      <td>NaN</td>\n      <td>1779.74</td>\n      <td>Below limit</td>\n    </tr>\n    <tr>\n      <th>1</th>\n      <td>65</td>\n      <td>Female</td>\n      <td>High school graduate</td>\n      <td>NaN</td>\n      <td>NaN</td>\n      <td>Widowed</td>\n      <td>White</td>\n      <td>All other</td>\n      <td>Children or Armed Forces</td>\n      <td>NaN</td>\n      <td>...</td>\n      <td>US</td>\n      <td>unchanged</td>\n      <td>NaN</td>\n      <td>unchanged</td>\n      <td>unchanged</td>\n      <td>Same</td>\n      <td>NaN</td>\n      <td>NaN</td>\n      <td>2366.75</td>\n      <td>Below limit</td>\n    </tr>\n    <tr>\n      <th>2</th>\n      <td>21</td>\n      <td>Male</td>\n      <td>12th grade no diploma</td>\n      <td>Federal government</td>\n      <td>NaN</td>\n      <td>Never married</td>\n      <td>Black</td>\n      <td>All other</td>\n      <td>Children or Armed Forces</td>\n      <td>NaN</td>\n      <td>...</td>\n      <td>US</td>\n      <td>unchanged</td>\n      <td>NaN</td>\n      <td>unchanged</td>\n      <td>unchanged</td>\n      <td>Same</td>\n      <td>NaN</td>\n      <td>NaN</td>\n      <td>1693.42</td>\n      <td>Below limit</td>\n    </tr>\n    <tr>\n      <th>3</th>\n      <td>2</td>\n      <td>Female</td>\n      <td>Children</td>\n      <td>NaN</td>\n      <td>NaN</td>\n      <td>Never married</td>\n      <td>Asian or Pacific Islander</td>\n      <td>All other</td>\n      <td>Children or Armed Forces</td>\n      <td>NaN</td>\n      <td>...</td>\n      <td>India</td>\n      <td>unchanged</td>\n      <td>NaN</td>\n      <td>unchanged</td>\n      <td>unchanged</td>\n      <td>Same</td>\n      <td>NaN</td>\n      <td>NaN</td>\n      <td>1380.27</td>\n      <td>Below limit</td>\n    </tr>\n    <tr>\n      <th>4</th>\n      <td>70</td>\n      <td>Male</td>\n      <td>High school graduate</td>\n      <td>NaN</td>\n      <td>NaN</td>\n      <td>Married-civilian spouse present</td>\n      <td>White</td>\n      <td>All other</td>\n      <td>Not in labor force</td>\n      <td>NaN</td>\n      <td>...</td>\n      <td>US</td>\n      <td>NaN</td>\n      <td>NaN</td>\n      <td>NaN</td>\n      <td>NaN</td>\n      <td>NaN</td>\n      <td>NaN</td>\n      <td>NaN</td>\n      <td>1580.79</td>\n      <td>Below limit</td>\n    </tr>\n    <tr>\n      <th>...</th>\n      <td>...</td>\n      <td>...</td>\n      <td>...</td>\n      <td>...</td>\n      <td>...</td>\n      <td>...</td>\n      <td>...</td>\n      <td>...</td>\n      <td>...</td>\n      <td>...</td>\n      <td>...</td>\n      <td>...</td>\n      <td>...</td>\n      <td>...</td>\n      <td>...</td>\n      <td>...</td>\n      <td>...</td>\n      <td>...</td>\n      <td>...</td>\n      <td>...</td>\n      <td>...</td>\n    </tr>\n    <tr>\n      <th>209494</th>\n      <td>16</td>\n      <td>Female</td>\n      <td>7th and 8th grade</td>\n      <td>NaN</td>\n      <td>High school</td>\n      <td>Never married</td>\n      <td>White</td>\n      <td>All other</td>\n      <td>Not in labor force</td>\n      <td>NaN</td>\n      <td>...</td>\n      <td>US</td>\n      <td>NaN</td>\n      <td>NaN</td>\n      <td>NaN</td>\n      <td>NaN</td>\n      <td>NaN</td>\n      <td>NaN</td>\n      <td>NaN</td>\n      <td>2170.60</td>\n      <td>Below limit</td>\n    </tr>\n    <tr>\n      <th>209495</th>\n      <td>78</td>\n      <td>Male</td>\n      <td>Bachelors degree(BA AB BS)</td>\n      <td>NaN</td>\n      <td>NaN</td>\n      <td>Married-civilian spouse present</td>\n      <td>White</td>\n      <td>All other</td>\n      <td>Not in labor force</td>\n      <td>NaN</td>\n      <td>...</td>\n      <td>Canada</td>\n      <td>NaN</td>\n      <td>NaN</td>\n      <td>NaN</td>\n      <td>NaN</td>\n      <td>NaN</td>\n      <td>NaN</td>\n      <td>NaN</td>\n      <td>1029.57</td>\n      <td>Below limit</td>\n    </tr>\n    <tr>\n      <th>209496</th>\n      <td>8</td>\n      <td>Female</td>\n      <td>Children</td>\n      <td>NaN</td>\n      <td>NaN</td>\n      <td>Never married</td>\n      <td>White</td>\n      <td>All other</td>\n      <td>Children or Armed Forces</td>\n      <td>NaN</td>\n      <td>...</td>\n      <td>US</td>\n      <td>NaN</td>\n      <td>NaN</td>\n      <td>NaN</td>\n      <td>NaN</td>\n      <td>NaN</td>\n      <td>NaN</td>\n      <td>NaN</td>\n      <td>791.61</td>\n      <td>Below limit</td>\n    </tr>\n    <tr>\n      <th>209497</th>\n      <td>26</td>\n      <td>Female</td>\n      <td>Some college but no degree</td>\n      <td>Private</td>\n      <td>NaN</td>\n      <td>Married-civilian spouse present</td>\n      <td>White</td>\n      <td>All other</td>\n      <td>Children or Armed Forces</td>\n      <td>NaN</td>\n      <td>...</td>\n      <td>US</td>\n      <td>unchanged</td>\n      <td>NaN</td>\n      <td>unchanged</td>\n      <td>unchanged</td>\n      <td>Same</td>\n      <td>NaN</td>\n      <td>NaN</td>\n      <td>3530.26</td>\n      <td>Below limit</td>\n    </tr>\n    <tr>\n      <th>209498</th>\n      <td>19</td>\n      <td>Male</td>\n      <td>11th grade</td>\n      <td>Local government</td>\n      <td>High school</td>\n      <td>Never married</td>\n      <td>Black</td>\n      <td>All other</td>\n      <td>Children or Armed Forces</td>\n      <td>Re-entrant</td>\n      <td>...</td>\n      <td>US</td>\n      <td>MSA to MSA</td>\n      <td>Same</td>\n      <td>Same county</td>\n      <td>Same county</td>\n      <td>No</td>\n      <td>South</td>\n      <td>Florida</td>\n      <td>1987.72</td>\n      <td>Below limit</td>\n    </tr>\n  </tbody>\n</table>\n<p>209499 rows × 42 columns</p>\n</div>"
     },
     "execution_count": 4,
     "metadata": {},
     "output_type": "execute_result"
    }
   ],
   "source": [
    "train_df"
   ],
   "metadata": {
    "collapsed": false,
    "pycharm": {
     "name": "#%%\n"
    }
   }
  },
  {
   "cell_type": "code",
   "execution_count": 5,
   "outputs": [
    {
     "name": "stdout",
     "output_type": "stream",
     "text": [
      "(209499, 42)\n",
      "(89786, 41)\n"
     ]
    }
   ],
   "source": [
    "print(train_df.shape)\n",
    "print(test_df.shape)"
   ],
   "metadata": {
    "collapsed": false,
    "pycharm": {
     "name": "#%%\n"
    }
   }
  },
  {
   "cell_type": "code",
   "execution_count": 6,
   "outputs": [
    {
     "data": {
      "text/plain": "array([nan, ' No', 'Same'], dtype=object)"
     },
     "execution_count": 6,
     "metadata": {},
     "output_type": "execute_result"
    }
   ],
   "source": [
    "train_df['migration_prev_sunbelt'].unique()\n"
   ],
   "metadata": {
    "collapsed": false,
    "pycharm": {
     "name": "#%%\n"
    }
   }
  },
  {
   "cell_type": "code",
   "execution_count": 7,
   "outputs": [
    {
     "data": {
      "text/plain": "                 age  employment_stat  wage_per_hour  working_week_per_year  \\\ncount  209499.000000    209499.000000  209499.000000          209499.000000   \nmean       34.518728         0.176760      55.433487              23.158850   \nstd        22.306738         0.555562     276.757327              24.397963   \nmin         0.000000         0.000000       0.000000               0.000000   \n25%        15.000000         0.000000       0.000000               0.000000   \n50%        33.000000         0.000000       0.000000               8.000000   \n75%        50.000000         0.000000       0.000000              52.000000   \nmax        90.000000         2.000000    9999.000000              52.000000   \n\n       industry_code  occupation_code  total_employed    vet_benefit  \\\ncount  209499.000000    209499.000000   209499.000000  209499.000000   \nmean       15.332398        11.321734        1.956067       1.515854   \nstd        18.049655        14.460839        2.365154       0.850853   \nmin         0.000000         0.000000        0.000000       0.000000   \n25%         0.000000         0.000000        0.000000       2.000000   \n50%         0.000000         0.000000        1.000000       2.000000   \n75%        33.000000        26.000000        4.000000       2.000000   \nmax        51.000000        46.000000        6.000000       2.000000   \n\n               gains         losses  stocks_status       mig_year  \\\ncount  209499.000000  209499.000000  209499.000000  209499.000000   \nmean      435.926887      36.881737     194.533420      94.499745   \nstd      4696.359500     270.383302    1956.375501       0.500001   \nmin         0.000000       0.000000       0.000000      94.000000   \n25%         0.000000       0.000000       0.000000      94.000000   \n50%         0.000000       0.000000       0.000000      94.000000   \n75%         0.000000       0.000000       0.000000      95.000000   \nmax     99999.000000    4608.000000   99999.000000      95.000000   \n\n       importance_of_record  \ncount         209499.000000  \nmean            1740.888324  \nstd              995.559557  \nmin               37.870000  \n25%             1061.290000  \n50%             1617.040000  \n75%             2185.480000  \nmax            18656.300000  ",
      "text/html": "<div>\n<style scoped>\n    .dataframe tbody tr th:only-of-type {\n        vertical-align: middle;\n    }\n\n    .dataframe tbody tr th {\n        vertical-align: top;\n    }\n\n    .dataframe thead th {\n        text-align: right;\n    }\n</style>\n<table border=\"1\" class=\"dataframe\">\n  <thead>\n    <tr style=\"text-align: right;\">\n      <th></th>\n      <th>age</th>\n      <th>employment_stat</th>\n      <th>wage_per_hour</th>\n      <th>working_week_per_year</th>\n      <th>industry_code</th>\n      <th>occupation_code</th>\n      <th>total_employed</th>\n      <th>vet_benefit</th>\n      <th>gains</th>\n      <th>losses</th>\n      <th>stocks_status</th>\n      <th>mig_year</th>\n      <th>importance_of_record</th>\n    </tr>\n  </thead>\n  <tbody>\n    <tr>\n      <th>count</th>\n      <td>209499.000000</td>\n      <td>209499.000000</td>\n      <td>209499.000000</td>\n      <td>209499.000000</td>\n      <td>209499.000000</td>\n      <td>209499.000000</td>\n      <td>209499.000000</td>\n      <td>209499.000000</td>\n      <td>209499.000000</td>\n      <td>209499.000000</td>\n      <td>209499.000000</td>\n      <td>209499.000000</td>\n      <td>209499.000000</td>\n    </tr>\n    <tr>\n      <th>mean</th>\n      <td>34.518728</td>\n      <td>0.176760</td>\n      <td>55.433487</td>\n      <td>23.158850</td>\n      <td>15.332398</td>\n      <td>11.321734</td>\n      <td>1.956067</td>\n      <td>1.515854</td>\n      <td>435.926887</td>\n      <td>36.881737</td>\n      <td>194.533420</td>\n      <td>94.499745</td>\n      <td>1740.888324</td>\n    </tr>\n    <tr>\n      <th>std</th>\n      <td>22.306738</td>\n      <td>0.555562</td>\n      <td>276.757327</td>\n      <td>24.397963</td>\n      <td>18.049655</td>\n      <td>14.460839</td>\n      <td>2.365154</td>\n      <td>0.850853</td>\n      <td>4696.359500</td>\n      <td>270.383302</td>\n      <td>1956.375501</td>\n      <td>0.500001</td>\n      <td>995.559557</td>\n    </tr>\n    <tr>\n      <th>min</th>\n      <td>0.000000</td>\n      <td>0.000000</td>\n      <td>0.000000</td>\n      <td>0.000000</td>\n      <td>0.000000</td>\n      <td>0.000000</td>\n      <td>0.000000</td>\n      <td>0.000000</td>\n      <td>0.000000</td>\n      <td>0.000000</td>\n      <td>0.000000</td>\n      <td>94.000000</td>\n      <td>37.870000</td>\n    </tr>\n    <tr>\n      <th>25%</th>\n      <td>15.000000</td>\n      <td>0.000000</td>\n      <td>0.000000</td>\n      <td>0.000000</td>\n      <td>0.000000</td>\n      <td>0.000000</td>\n      <td>0.000000</td>\n      <td>2.000000</td>\n      <td>0.000000</td>\n      <td>0.000000</td>\n      <td>0.000000</td>\n      <td>94.000000</td>\n      <td>1061.290000</td>\n    </tr>\n    <tr>\n      <th>50%</th>\n      <td>33.000000</td>\n      <td>0.000000</td>\n      <td>0.000000</td>\n      <td>8.000000</td>\n      <td>0.000000</td>\n      <td>0.000000</td>\n      <td>1.000000</td>\n      <td>2.000000</td>\n      <td>0.000000</td>\n      <td>0.000000</td>\n      <td>0.000000</td>\n      <td>94.000000</td>\n      <td>1617.040000</td>\n    </tr>\n    <tr>\n      <th>75%</th>\n      <td>50.000000</td>\n      <td>0.000000</td>\n      <td>0.000000</td>\n      <td>52.000000</td>\n      <td>33.000000</td>\n      <td>26.000000</td>\n      <td>4.000000</td>\n      <td>2.000000</td>\n      <td>0.000000</td>\n      <td>0.000000</td>\n      <td>0.000000</td>\n      <td>95.000000</td>\n      <td>2185.480000</td>\n    </tr>\n    <tr>\n      <th>max</th>\n      <td>90.000000</td>\n      <td>2.000000</td>\n      <td>9999.000000</td>\n      <td>52.000000</td>\n      <td>51.000000</td>\n      <td>46.000000</td>\n      <td>6.000000</td>\n      <td>2.000000</td>\n      <td>99999.000000</td>\n      <td>4608.000000</td>\n      <td>99999.000000</td>\n      <td>95.000000</td>\n      <td>18656.300000</td>\n    </tr>\n  </tbody>\n</table>\n</div>"
     },
     "execution_count": 7,
     "metadata": {},
     "output_type": "execute_result"
    }
   ],
   "source": [
    "train_df.describe()"
   ],
   "metadata": {
    "collapsed": false,
    "pycharm": {
     "name": "#%%\n"
    }
   }
  },
  {
   "cell_type": "code",
   "execution_count": 8,
   "outputs": [
    {
     "data": {
      "text/plain": "age                                   91\ngender                                 2\neducation                             17\nclass                                  8\neducation_institute                    2\nmarital_status                         7\nrace                                   5\nis_hispanic                           10\nemployment_commitment                  8\nunemployment_reason                    5\nemployment_stat                        3\nwage_per_hour                       1232\nis_labor_union                         2\nworking_week_per_year                 53\nindustry_code                         52\nindustry_code_main                    24\noccupation_code                       47\noccupation_code_main                  14\ntotal_employed                         7\nhousehold_stat                        38\nhousehold_summary                      8\nunder_18_family                        4\nveterans_admin_questionnaire           2\nvet_benefit                            3\ntax_status                             6\ngains                                132\nlosses                               114\nstocks_status                       1499\ncitizenship                            5\nmig_year                               2\ncountry_of_birth_own                  42\ncountry_of_birth_father               42\ncountry_of_birth_mother               42\nmigration_code_change_in_msa           8\nmigration_prev_sunbelt                 2\nmigration_code_move_within_reg         8\nmigration_code_change_in_reg           7\nresidence_1_year_ago                   2\nold_residence_reg                      5\nold_residence_state                   49\nimportance_of_record              102743\nincome_above_limit                     2\ndtype: int64"
     },
     "execution_count": 8,
     "metadata": {},
     "output_type": "execute_result"
    }
   ],
   "source": [
    "train_df.nunique()"
   ],
   "metadata": {
    "collapsed": false,
    "pycharm": {
     "name": "#%%\n"
    }
   }
  },
  {
   "cell_type": "code",
   "execution_count": 9,
   "outputs": [
    {
     "data": {
      "text/plain": "age                                 int64\ngender                             object\neducation                          object\nclass                              object\neducation_institute                object\nmarital_status                     object\nrace                               object\nis_hispanic                        object\nemployment_commitment              object\nunemployment_reason                object\nemployment_stat                     int64\nwage_per_hour                       int64\nis_labor_union                     object\nworking_week_per_year               int64\nindustry_code                       int64\nindustry_code_main                 object\noccupation_code                     int64\noccupation_code_main               object\ntotal_employed                      int64\nhousehold_stat                     object\nhousehold_summary                  object\nunder_18_family                    object\nveterans_admin_questionnaire       object\nvet_benefit                         int64\ntax_status                         object\ngains                               int64\nlosses                              int64\nstocks_status                       int64\ncitizenship                        object\nmig_year                            int64\ncountry_of_birth_own               object\ncountry_of_birth_father            object\ncountry_of_birth_mother            object\nmigration_code_change_in_msa       object\nmigration_prev_sunbelt             object\nmigration_code_move_within_reg     object\nmigration_code_change_in_reg       object\nresidence_1_year_ago               object\nold_residence_reg                  object\nold_residence_state                object\nimportance_of_record              float64\nincome_above_limit                 object\ndtype: object"
     },
     "execution_count": 9,
     "metadata": {},
     "output_type": "execute_result"
    }
   ],
   "source": [
    "train_df.dtypes"
   ],
   "metadata": {
    "collapsed": false,
    "pycharm": {
     "name": "#%%\n"
    }
   }
  },
  {
   "cell_type": "code",
   "execution_count": 10,
   "outputs": [
    {
     "data": {
      "text/plain": "age                                    0\ngender                                 0\neducation                              0\nclass                             105245\neducation_institute               196197\nmarital_status                         0\nrace                                   0\nis_hispanic                            0\nemployment_commitment                  0\nunemployment_reason               202979\nemployment_stat                        0\nwage_per_hour                          0\nis_labor_union                    189420\nworking_week_per_year                  0\nindustry_code                          0\nindustry_code_main                     0\noccupation_code                        0\noccupation_code_main              105694\ntotal_employed                         0\nhousehold_stat                         0\nhousehold_summary                      0\nunder_18_family                   151654\nveterans_admin_questionnaire      207415\nvet_benefit                            0\ntax_status                             0\ngains                                  0\nlosses                                 0\nstocks_status                          0\ncitizenship                            0\nmig_year                               0\ncountry_of_birth_own                3667\ncountry_of_birth_father             7181\ncountry_of_birth_mother             6516\nmigration_code_change_in_msa      106284\nmigration_prev_sunbelt            193148\nmigration_code_move_within_reg    106284\nmigration_code_change_in_reg      106284\nresidence_1_year_ago              106284\nold_residence_reg                 193148\nold_residence_state               193889\nimportance_of_record                   0\nincome_above_limit                     0\ndtype: int64"
     },
     "execution_count": 10,
     "metadata": {},
     "output_type": "execute_result"
    }
   ],
   "source": [
    "train_df.isna().sum()"
   ],
   "metadata": {
    "collapsed": false,
    "pycharm": {
     "name": "#%%\n"
    }
   }
  },
  {
   "cell_type": "code",
   "execution_count": 11,
   "outputs": [
    {
     "name": "stdout",
     "output_type": "stream",
     "text": [
      "Your selected dataframe has 42 columns.\n",
      "There are 17 columns that have missing values.\n"
     ]
    },
    {
     "data": {
      "text/plain": "                                Missing Values  % of Total Values   dtype\nveterans_admin_questionnaire            207415               99.0  object\nunemployment_reason                     202979               96.9  object\neducation_institute                     196197               93.7  object\nold_residence_state                     193889               92.5  object\nold_residence_reg                       193148               92.2  object\nmigration_prev_sunbelt                  193148               92.2  object\nis_labor_union                          189420               90.4  object\nunder_18_family                         151654               72.4  object\nmigration_code_change_in_reg            106284               50.7  object\nresidence_1_year_ago                    106284               50.7  object\nmigration_code_change_in_msa            106284               50.7  object\nmigration_code_move_within_reg          106284               50.7  object\noccupation_code_main                    105694               50.5  object\nclass                                   105245               50.2  object\ncountry_of_birth_father                   7181                3.4  object\ncountry_of_birth_mother                   6516                3.1  object\ncountry_of_birth_own                      3667                1.8  object",
      "text/html": "<div>\n<style scoped>\n    .dataframe tbody tr th:only-of-type {\n        vertical-align: middle;\n    }\n\n    .dataframe tbody tr th {\n        vertical-align: top;\n    }\n\n    .dataframe thead th {\n        text-align: right;\n    }\n</style>\n<table border=\"1\" class=\"dataframe\">\n  <thead>\n    <tr style=\"text-align: right;\">\n      <th></th>\n      <th>Missing Values</th>\n      <th>% of Total Values</th>\n      <th>dtype</th>\n    </tr>\n  </thead>\n  <tbody>\n    <tr>\n      <th>veterans_admin_questionnaire</th>\n      <td>207415</td>\n      <td>99.0</td>\n      <td>object</td>\n    </tr>\n    <tr>\n      <th>unemployment_reason</th>\n      <td>202979</td>\n      <td>96.9</td>\n      <td>object</td>\n    </tr>\n    <tr>\n      <th>education_institute</th>\n      <td>196197</td>\n      <td>93.7</td>\n      <td>object</td>\n    </tr>\n    <tr>\n      <th>old_residence_state</th>\n      <td>193889</td>\n      <td>92.5</td>\n      <td>object</td>\n    </tr>\n    <tr>\n      <th>old_residence_reg</th>\n      <td>193148</td>\n      <td>92.2</td>\n      <td>object</td>\n    </tr>\n    <tr>\n      <th>migration_prev_sunbelt</th>\n      <td>193148</td>\n      <td>92.2</td>\n      <td>object</td>\n    </tr>\n    <tr>\n      <th>is_labor_union</th>\n      <td>189420</td>\n      <td>90.4</td>\n      <td>object</td>\n    </tr>\n    <tr>\n      <th>under_18_family</th>\n      <td>151654</td>\n      <td>72.4</td>\n      <td>object</td>\n    </tr>\n    <tr>\n      <th>migration_code_change_in_reg</th>\n      <td>106284</td>\n      <td>50.7</td>\n      <td>object</td>\n    </tr>\n    <tr>\n      <th>residence_1_year_ago</th>\n      <td>106284</td>\n      <td>50.7</td>\n      <td>object</td>\n    </tr>\n    <tr>\n      <th>migration_code_change_in_msa</th>\n      <td>106284</td>\n      <td>50.7</td>\n      <td>object</td>\n    </tr>\n    <tr>\n      <th>migration_code_move_within_reg</th>\n      <td>106284</td>\n      <td>50.7</td>\n      <td>object</td>\n    </tr>\n    <tr>\n      <th>occupation_code_main</th>\n      <td>105694</td>\n      <td>50.5</td>\n      <td>object</td>\n    </tr>\n    <tr>\n      <th>class</th>\n      <td>105245</td>\n      <td>50.2</td>\n      <td>object</td>\n    </tr>\n    <tr>\n      <th>country_of_birth_father</th>\n      <td>7181</td>\n      <td>3.4</td>\n      <td>object</td>\n    </tr>\n    <tr>\n      <th>country_of_birth_mother</th>\n      <td>6516</td>\n      <td>3.1</td>\n      <td>object</td>\n    </tr>\n    <tr>\n      <th>country_of_birth_own</th>\n      <td>3667</td>\n      <td>1.8</td>\n      <td>object</td>\n    </tr>\n  </tbody>\n</table>\n</div>"
     },
     "execution_count": 11,
     "metadata": {},
     "output_type": "execute_result"
    }
   ],
   "source": [
    "def missing_values_table(df):\n",
    "    # Total missing values\n",
    "    mis_val = df.isnull().sum()\n",
    "\n",
    "    # Percentage of missing values\n",
    "    mis_val_percent = 100 * df.isnull().sum() / len(df)\n",
    "\n",
    "    dtype = df.dtypes\n",
    "\n",
    "    # Make a table with the results\n",
    "    mis_val_table = pd.concat([mis_val, mis_val_percent, dtype], axis=1)\n",
    "\n",
    "    # Rename the columns\n",
    "    mis_val_table_ren_columns = mis_val_table.rename(\n",
    "        columns={0: 'Missing Values', 1: '% of Total Values', 2: 'dtype'})\n",
    "\n",
    "    # Sort the table by percentage of missing descending\n",
    "    mis_val_table_ren_columns = mis_val_table_ren_columns[\n",
    "        mis_val_table_ren_columns.iloc[:, 1] != 0].sort_values(\n",
    "        '% of Total Values', ascending=False).round(1)\n",
    "    # Print some summary information\n",
    "    print(\"Your selected dataframe has \" + str(df.shape[1]) + \" columns.\\n\"\n",
    "                                                              \"There are \" + str(mis_val_table_ren_columns.shape[0]) +\n",
    "          \" columns that have missing values.\")\n",
    "\n",
    "    # Return the dataframe with missing information\n",
    "    return mis_val_table_ren_columns\n",
    "\n",
    "\n",
    "missing_values_table_df = missing_values_table(train_df)\n",
    "missing_values_table_df"
   ],
   "metadata": {
    "collapsed": false,
    "pycharm": {
     "name": "#%%\n"
    }
   }
  },
  {
   "cell_type": "code",
   "execution_count": 12,
   "outputs": [
    {
     "name": "stdout",
     "output_type": "stream",
     "text": [
      "3573\n"
     ]
    }
   ],
   "source": [
    "print(train_df.duplicated().sum())\n",
    "train_df.drop_duplicates(inplace=True)"
   ],
   "metadata": {
    "collapsed": false,
    "pycharm": {
     "name": "#%%\n"
    }
   }
  },
  {
   "cell_type": "code",
   "execution_count": 13,
   "outputs": [],
   "source": [
    "columns_drop=missing_values_table_df[missing_values_table_df['% of Total Values']>70].index.tolist()"
   ],
   "metadata": {
    "collapsed": false,
    "pycharm": {
     "name": "#%%\n"
    }
   }
  },
  {
   "cell_type": "code",
   "execution_count": 14,
   "outputs": [],
   "source": [
    "train_df.drop(columns_drop,axis=1,inplace=True)\n",
    "test_df.drop(columns_drop,axis=1,inplace=True)"
   ],
   "metadata": {
    "collapsed": false,
    "pycharm": {
     "name": "#%%\n"
    }
   }
  },
  {
   "cell_type": "code",
   "execution_count": 15,
   "outputs": [
    {
     "name": "stdout",
     "output_type": "stream",
     "text": [
      "Your selected dataframe has 33 columns.\n",
      "There are 9 columns that have missing values.\n"
     ]
    },
    {
     "data": {
      "text/plain": "                                Missing Values  % of Total Values   dtype\nmigration_code_change_in_msa             45597               50.8  object\nmigration_code_move_within_reg           45597               50.8  object\nmigration_code_change_in_reg             45597               50.8  object\nresidence_1_year_ago                     45597               50.8  object\noccupation_code_main                     45273               50.4  object\nclass                                    45079               50.2  object\ncountry_of_birth_father                   2961                3.3  object\ncountry_of_birth_mother                   2675                3.0  object\ncountry_of_birth_own                      1490                1.7  object",
      "text/html": "<div>\n<style scoped>\n    .dataframe tbody tr th:only-of-type {\n        vertical-align: middle;\n    }\n\n    .dataframe tbody tr th {\n        vertical-align: top;\n    }\n\n    .dataframe thead th {\n        text-align: right;\n    }\n</style>\n<table border=\"1\" class=\"dataframe\">\n  <thead>\n    <tr style=\"text-align: right;\">\n      <th></th>\n      <th>Missing Values</th>\n      <th>% of Total Values</th>\n      <th>dtype</th>\n    </tr>\n  </thead>\n  <tbody>\n    <tr>\n      <th>migration_code_change_in_msa</th>\n      <td>45597</td>\n      <td>50.8</td>\n      <td>object</td>\n    </tr>\n    <tr>\n      <th>migration_code_move_within_reg</th>\n      <td>45597</td>\n      <td>50.8</td>\n      <td>object</td>\n    </tr>\n    <tr>\n      <th>migration_code_change_in_reg</th>\n      <td>45597</td>\n      <td>50.8</td>\n      <td>object</td>\n    </tr>\n    <tr>\n      <th>residence_1_year_ago</th>\n      <td>45597</td>\n      <td>50.8</td>\n      <td>object</td>\n    </tr>\n    <tr>\n      <th>occupation_code_main</th>\n      <td>45273</td>\n      <td>50.4</td>\n      <td>object</td>\n    </tr>\n    <tr>\n      <th>class</th>\n      <td>45079</td>\n      <td>50.2</td>\n      <td>object</td>\n    </tr>\n    <tr>\n      <th>country_of_birth_father</th>\n      <td>2961</td>\n      <td>3.3</td>\n      <td>object</td>\n    </tr>\n    <tr>\n      <th>country_of_birth_mother</th>\n      <td>2675</td>\n      <td>3.0</td>\n      <td>object</td>\n    </tr>\n    <tr>\n      <th>country_of_birth_own</th>\n      <td>1490</td>\n      <td>1.7</td>\n      <td>object</td>\n    </tr>\n  </tbody>\n</table>\n</div>"
     },
     "execution_count": 15,
     "metadata": {},
     "output_type": "execute_result"
    }
   ],
   "source": [
    "missing_values_test_df = missing_values_table(test_df)\n",
    "missing_values_test_df"
   ],
   "metadata": {
    "collapsed": false,
    "pycharm": {
     "name": "#%%\n"
    }
   }
  },
  {
   "cell_type": "code",
   "execution_count": 16,
   "outputs": [
    {
     "name": "stdout",
     "output_type": "stream",
     "text": [
      "Your selected dataframe has 34 columns.\n",
      "There are 9 columns that have missing values.\n"
     ]
    },
    {
     "data": {
      "text/plain": "                                Missing Values  % of Total Values   dtype\nmigration_code_change_in_msa            104302               50.7  object\nmigration_code_move_within_reg          104302               50.7  object\nmigration_code_change_in_reg            104302               50.7  object\nresidence_1_year_ago                    104302               50.7  object\noccupation_code_main                    102139               49.6  object\nclass                                   101691               49.4  object\ncountry_of_birth_father                   7164                3.5  object\ncountry_of_birth_mother                   6500                3.2  object\ncountry_of_birth_own                      3663                1.8  object",
      "text/html": "<div>\n<style scoped>\n    .dataframe tbody tr th:only-of-type {\n        vertical-align: middle;\n    }\n\n    .dataframe tbody tr th {\n        vertical-align: top;\n    }\n\n    .dataframe thead th {\n        text-align: right;\n    }\n</style>\n<table border=\"1\" class=\"dataframe\">\n  <thead>\n    <tr style=\"text-align: right;\">\n      <th></th>\n      <th>Missing Values</th>\n      <th>% of Total Values</th>\n      <th>dtype</th>\n    </tr>\n  </thead>\n  <tbody>\n    <tr>\n      <th>migration_code_change_in_msa</th>\n      <td>104302</td>\n      <td>50.7</td>\n      <td>object</td>\n    </tr>\n    <tr>\n      <th>migration_code_move_within_reg</th>\n      <td>104302</td>\n      <td>50.7</td>\n      <td>object</td>\n    </tr>\n    <tr>\n      <th>migration_code_change_in_reg</th>\n      <td>104302</td>\n      <td>50.7</td>\n      <td>object</td>\n    </tr>\n    <tr>\n      <th>residence_1_year_ago</th>\n      <td>104302</td>\n      <td>50.7</td>\n      <td>object</td>\n    </tr>\n    <tr>\n      <th>occupation_code_main</th>\n      <td>102139</td>\n      <td>49.6</td>\n      <td>object</td>\n    </tr>\n    <tr>\n      <th>class</th>\n      <td>101691</td>\n      <td>49.4</td>\n      <td>object</td>\n    </tr>\n    <tr>\n      <th>country_of_birth_father</th>\n      <td>7164</td>\n      <td>3.5</td>\n      <td>object</td>\n    </tr>\n    <tr>\n      <th>country_of_birth_mother</th>\n      <td>6500</td>\n      <td>3.2</td>\n      <td>object</td>\n    </tr>\n    <tr>\n      <th>country_of_birth_own</th>\n      <td>3663</td>\n      <td>1.8</td>\n      <td>object</td>\n    </tr>\n  </tbody>\n</table>\n</div>"
     },
     "execution_count": 16,
     "metadata": {},
     "output_type": "execute_result"
    }
   ],
   "source": [
    "missing_values_train_df = missing_values_table(train_df)\n",
    "missing_values_train_df"
   ],
   "metadata": {
    "collapsed": false,
    "pycharm": {
     "name": "#%%\n"
    }
   }
  },
  {
   "cell_type": "code",
   "execution_count": 17,
   "outputs": [
    {
     "data": {
      "text/plain": "         gender                    education                class  \\\n0        Female         High school graduate                  NaN   \n1        Female         High school graduate                  NaN   \n2          Male        12th grade no diploma   Federal government   \n3        Female                     Children                  NaN   \n4          Male         High school graduate                  NaN   \n...         ...                          ...                  ...   \n209494   Female            7th and 8th grade                  NaN   \n209495     Male   Bachelors degree(BA AB BS)                  NaN   \n209496   Female                     Children                  NaN   \n209497   Female   Some college but no degree              Private   \n209498     Male                   11th grade     Local government   \n\n                          marital_status                        race  \\\n0                                Widowed                       White   \n1                                Widowed                       White   \n2                          Never married                       Black   \n3                          Never married   Asian or Pacific Islander   \n4        Married-civilian spouse present                       White   \n...                                  ...                         ...   \n209494                     Never married                       White   \n209495   Married-civilian spouse present                       White   \n209496                     Never married                       White   \n209497   Married-civilian spouse present                       White   \n209498                     Never married                       Black   \n\n       is_hispanic      employment_commitment            industry_code_main  \\\n0        All other         Not in labor force   Not in universe or children   \n1        All other   Children or Armed Forces   Not in universe or children   \n2        All other   Children or Armed Forces             Hospital services   \n3        All other   Children or Armed Forces   Not in universe or children   \n4        All other         Not in labor force   Not in universe or children   \n...            ...                        ...                           ...   \n209494   All other         Not in labor force   Not in universe or children   \n209495   All other         Not in labor force   Not in universe or children   \n209496   All other   Children or Armed Forces   Not in universe or children   \n209497   All other   Children or Armed Forces               Wholesale trade   \n209498   All other   Children or Armed Forces         Public administration   \n\n                   occupation_code_main  \\\n0                                   NaN   \n1                                   NaN   \n2        Adm support including clerical   \n3                                   NaN   \n4                                   NaN   \n...                                 ...   \n209494                              NaN   \n209495                              NaN   \n209496                              NaN   \n209497     Handlers equip cleaners etc    \n209498   Adm support including clerical   \n\n                                  household_stat  ...            tax_status  \\\n0                                    Householder  ...     Head of household   \n1                          Nonfamily householder  ...                Single   \n2        Child 18+ never marr Not in a subfamily  ...                Single   \n3          Child <18 never marr not in subfamily  ...              Nonfiler   \n4                          Spouse of householder  ...        Joint both 65+   \n...                                          ...  ...                   ...   \n209494     Child <18 never marr not in subfamily  ...              Nonfiler   \n209495                               Householder  ...        Joint both 65+   \n209496     Child <18 never marr not in subfamily  ...              Nonfiler   \n209497                     Spouse of householder  ...   Joint both under 65   \n209498   Child 18+ never marr Not in a subfamily  ...              Nonfiler   \n\n       citizenship country_of_birth_own country_of_birth_father  \\\n0           Native                   US                      US   \n1           Native                   US                      US   \n2           Native                   US                      US   \n3           Native                   US                   India   \n4           Native                   US                      US   \n...            ...                  ...                     ...   \n209494      Native                   US                      US   \n209495      Native                   US                      US   \n209496      Native                   US                      US   \n209497      Native                   US                      US   \n209498      Native                   US                      US   \n\n       country_of_birth_mother migration_code_change_in_msa  \\\n0                           US                          NaN   \n1                           US                    unchanged   \n2                           US                    unchanged   \n3                        India                    unchanged   \n4                           US                          NaN   \n...                        ...                          ...   \n209494                      US                          NaN   \n209495                  Canada                          NaN   \n209496                      US                          NaN   \n209497                      US                    unchanged   \n209498                      US                   MSA to MSA   \n\n       migration_code_move_within_reg migration_code_change_in_reg  \\\n0                                 NaN                          NaN   \n1                           unchanged                    unchanged   \n2                           unchanged                    unchanged   \n3                           unchanged                    unchanged   \n4                                 NaN                          NaN   \n...                               ...                          ...   \n209494                            NaN                          NaN   \n209495                            NaN                          NaN   \n209496                            NaN                          NaN   \n209497                      unchanged                    unchanged   \n209498                    Same county                  Same county   \n\n       residence_1_year_ago income_above_limit  \n0                       NaN        Below limit  \n1                      Same        Below limit  \n2                      Same        Below limit  \n3                      Same        Below limit  \n4                       NaN        Below limit  \n...                     ...                ...  \n209494                  NaN        Below limit  \n209495                  NaN        Below limit  \n209496                  NaN        Below limit  \n209497                 Same        Below limit  \n209498                   No        Below limit  \n\n[205926 rows x 21 columns]",
      "text/html": "<div>\n<style scoped>\n    .dataframe tbody tr th:only-of-type {\n        vertical-align: middle;\n    }\n\n    .dataframe tbody tr th {\n        vertical-align: top;\n    }\n\n    .dataframe thead th {\n        text-align: right;\n    }\n</style>\n<table border=\"1\" class=\"dataframe\">\n  <thead>\n    <tr style=\"text-align: right;\">\n      <th></th>\n      <th>gender</th>\n      <th>education</th>\n      <th>class</th>\n      <th>marital_status</th>\n      <th>race</th>\n      <th>is_hispanic</th>\n      <th>employment_commitment</th>\n      <th>industry_code_main</th>\n      <th>occupation_code_main</th>\n      <th>household_stat</th>\n      <th>...</th>\n      <th>tax_status</th>\n      <th>citizenship</th>\n      <th>country_of_birth_own</th>\n      <th>country_of_birth_father</th>\n      <th>country_of_birth_mother</th>\n      <th>migration_code_change_in_msa</th>\n      <th>migration_code_move_within_reg</th>\n      <th>migration_code_change_in_reg</th>\n      <th>residence_1_year_ago</th>\n      <th>income_above_limit</th>\n    </tr>\n  </thead>\n  <tbody>\n    <tr>\n      <th>0</th>\n      <td>Female</td>\n      <td>High school graduate</td>\n      <td>NaN</td>\n      <td>Widowed</td>\n      <td>White</td>\n      <td>All other</td>\n      <td>Not in labor force</td>\n      <td>Not in universe or children</td>\n      <td>NaN</td>\n      <td>Householder</td>\n      <td>...</td>\n      <td>Head of household</td>\n      <td>Native</td>\n      <td>US</td>\n      <td>US</td>\n      <td>US</td>\n      <td>NaN</td>\n      <td>NaN</td>\n      <td>NaN</td>\n      <td>NaN</td>\n      <td>Below limit</td>\n    </tr>\n    <tr>\n      <th>1</th>\n      <td>Female</td>\n      <td>High school graduate</td>\n      <td>NaN</td>\n      <td>Widowed</td>\n      <td>White</td>\n      <td>All other</td>\n      <td>Children or Armed Forces</td>\n      <td>Not in universe or children</td>\n      <td>NaN</td>\n      <td>Nonfamily householder</td>\n      <td>...</td>\n      <td>Single</td>\n      <td>Native</td>\n      <td>US</td>\n      <td>US</td>\n      <td>US</td>\n      <td>unchanged</td>\n      <td>unchanged</td>\n      <td>unchanged</td>\n      <td>Same</td>\n      <td>Below limit</td>\n    </tr>\n    <tr>\n      <th>2</th>\n      <td>Male</td>\n      <td>12th grade no diploma</td>\n      <td>Federal government</td>\n      <td>Never married</td>\n      <td>Black</td>\n      <td>All other</td>\n      <td>Children or Armed Forces</td>\n      <td>Hospital services</td>\n      <td>Adm support including clerical</td>\n      <td>Child 18+ never marr Not in a subfamily</td>\n      <td>...</td>\n      <td>Single</td>\n      <td>Native</td>\n      <td>US</td>\n      <td>US</td>\n      <td>US</td>\n      <td>unchanged</td>\n      <td>unchanged</td>\n      <td>unchanged</td>\n      <td>Same</td>\n      <td>Below limit</td>\n    </tr>\n    <tr>\n      <th>3</th>\n      <td>Female</td>\n      <td>Children</td>\n      <td>NaN</td>\n      <td>Never married</td>\n      <td>Asian or Pacific Islander</td>\n      <td>All other</td>\n      <td>Children or Armed Forces</td>\n      <td>Not in universe or children</td>\n      <td>NaN</td>\n      <td>Child &lt;18 never marr not in subfamily</td>\n      <td>...</td>\n      <td>Nonfiler</td>\n      <td>Native</td>\n      <td>US</td>\n      <td>India</td>\n      <td>India</td>\n      <td>unchanged</td>\n      <td>unchanged</td>\n      <td>unchanged</td>\n      <td>Same</td>\n      <td>Below limit</td>\n    </tr>\n    <tr>\n      <th>4</th>\n      <td>Male</td>\n      <td>High school graduate</td>\n      <td>NaN</td>\n      <td>Married-civilian spouse present</td>\n      <td>White</td>\n      <td>All other</td>\n      <td>Not in labor force</td>\n      <td>Not in universe or children</td>\n      <td>NaN</td>\n      <td>Spouse of householder</td>\n      <td>...</td>\n      <td>Joint both 65+</td>\n      <td>Native</td>\n      <td>US</td>\n      <td>US</td>\n      <td>US</td>\n      <td>NaN</td>\n      <td>NaN</td>\n      <td>NaN</td>\n      <td>NaN</td>\n      <td>Below limit</td>\n    </tr>\n    <tr>\n      <th>...</th>\n      <td>...</td>\n      <td>...</td>\n      <td>...</td>\n      <td>...</td>\n      <td>...</td>\n      <td>...</td>\n      <td>...</td>\n      <td>...</td>\n      <td>...</td>\n      <td>...</td>\n      <td>...</td>\n      <td>...</td>\n      <td>...</td>\n      <td>...</td>\n      <td>...</td>\n      <td>...</td>\n      <td>...</td>\n      <td>...</td>\n      <td>...</td>\n      <td>...</td>\n      <td>...</td>\n    </tr>\n    <tr>\n      <th>209494</th>\n      <td>Female</td>\n      <td>7th and 8th grade</td>\n      <td>NaN</td>\n      <td>Never married</td>\n      <td>White</td>\n      <td>All other</td>\n      <td>Not in labor force</td>\n      <td>Not in universe or children</td>\n      <td>NaN</td>\n      <td>Child &lt;18 never marr not in subfamily</td>\n      <td>...</td>\n      <td>Nonfiler</td>\n      <td>Native</td>\n      <td>US</td>\n      <td>US</td>\n      <td>US</td>\n      <td>NaN</td>\n      <td>NaN</td>\n      <td>NaN</td>\n      <td>NaN</td>\n      <td>Below limit</td>\n    </tr>\n    <tr>\n      <th>209495</th>\n      <td>Male</td>\n      <td>Bachelors degree(BA AB BS)</td>\n      <td>NaN</td>\n      <td>Married-civilian spouse present</td>\n      <td>White</td>\n      <td>All other</td>\n      <td>Not in labor force</td>\n      <td>Not in universe or children</td>\n      <td>NaN</td>\n      <td>Householder</td>\n      <td>...</td>\n      <td>Joint both 65+</td>\n      <td>Native</td>\n      <td>US</td>\n      <td>US</td>\n      <td>Canada</td>\n      <td>NaN</td>\n      <td>NaN</td>\n      <td>NaN</td>\n      <td>NaN</td>\n      <td>Below limit</td>\n    </tr>\n    <tr>\n      <th>209496</th>\n      <td>Female</td>\n      <td>Children</td>\n      <td>NaN</td>\n      <td>Never married</td>\n      <td>White</td>\n      <td>All other</td>\n      <td>Children or Armed Forces</td>\n      <td>Not in universe or children</td>\n      <td>NaN</td>\n      <td>Child &lt;18 never marr not in subfamily</td>\n      <td>...</td>\n      <td>Nonfiler</td>\n      <td>Native</td>\n      <td>US</td>\n      <td>US</td>\n      <td>US</td>\n      <td>NaN</td>\n      <td>NaN</td>\n      <td>NaN</td>\n      <td>NaN</td>\n      <td>Below limit</td>\n    </tr>\n    <tr>\n      <th>209497</th>\n      <td>Female</td>\n      <td>Some college but no degree</td>\n      <td>Private</td>\n      <td>Married-civilian spouse present</td>\n      <td>White</td>\n      <td>All other</td>\n      <td>Children or Armed Forces</td>\n      <td>Wholesale trade</td>\n      <td>Handlers equip cleaners etc</td>\n      <td>Spouse of householder</td>\n      <td>...</td>\n      <td>Joint both under 65</td>\n      <td>Native</td>\n      <td>US</td>\n      <td>US</td>\n      <td>US</td>\n      <td>unchanged</td>\n      <td>unchanged</td>\n      <td>unchanged</td>\n      <td>Same</td>\n      <td>Below limit</td>\n    </tr>\n    <tr>\n      <th>209498</th>\n      <td>Male</td>\n      <td>11th grade</td>\n      <td>Local government</td>\n      <td>Never married</td>\n      <td>Black</td>\n      <td>All other</td>\n      <td>Children or Armed Forces</td>\n      <td>Public administration</td>\n      <td>Adm support including clerical</td>\n      <td>Child 18+ never marr Not in a subfamily</td>\n      <td>...</td>\n      <td>Nonfiler</td>\n      <td>Native</td>\n      <td>US</td>\n      <td>US</td>\n      <td>US</td>\n      <td>MSA to MSA</td>\n      <td>Same county</td>\n      <td>Same county</td>\n      <td>No</td>\n      <td>Below limit</td>\n    </tr>\n  </tbody>\n</table>\n<p>205926 rows × 21 columns</p>\n</div>"
     },
     "execution_count": 17,
     "metadata": {},
     "output_type": "execute_result"
    }
   ],
   "source": [
    "categorical_columns=train_df.select_dtypes(include='O').T.index.tolist()\n",
    "numerical_columns=train_df.select_dtypes(exclude='O').T.index.tolist()\n",
    "train_df[categorical_columns]"
   ],
   "metadata": {
    "collapsed": false,
    "pycharm": {
     "name": "#%%\n"
    }
   }
  },
  {
   "cell_type": "code",
   "execution_count": 18,
   "outputs": [
    {
     "name": "stdout",
     "output_type": "stream",
     "text": [
      " Female    107069\n",
      " Male       98857\n",
      "Name: gender, dtype: int64\n",
      " High school graduate                      50597\n",
      " Children                                  46265\n",
      " Some college but no degree                29311\n",
      " Bachelors degree(BA AB BS)                20973\n",
      " 7th and 8th grade                          8410\n",
      " 10th grade                                 7879\n",
      " 11th grade                                 7247\n",
      " Masters degree(MA MS MEng MEd MSW MBA)     6860\n",
      " 9th grade                                  6508\n",
      " Associates degree-occup /vocational        5650\n",
      " Associates degree-academic program         4494\n",
      " 5th or 6th grade                           3542\n",
      " 12th grade no diploma                      2281\n",
      " 1st 2nd 3rd or 4th grade                   1914\n",
      " Prof school degree (MD DDS DVM LLB JD)     1852\n",
      " Doctorate degree(PhD EdD)                  1318\n",
      " Less than 1st grade                         825\n",
      "Name: education, dtype: int64\n",
      " Private                           75603\n",
      " Self-employed-not incorporated     8955\n",
      " Local government                   8092\n",
      " State government                   4479\n",
      " Self-employed-incorporated         3444\n",
      " Federal government                 3047\n",
      " Never worked                        448\n",
      " Without pay                         167\n",
      "Name: class, dtype: int64\n",
      " Married-civilian spouse present    88382\n",
      " Never married                      87185\n",
      " Divorced                           13455\n",
      " Widowed                            11022\n",
      " Separated                           3596\n",
      " Married-spouse absent               1566\n",
      " Married-A F spouse present           720\n",
      "Name: marital_status, dtype: int64\n",
      " White                          172407\n",
      " Black                           21164\n",
      " Asian or Pacific Islander        6037\n",
      " Other                            3914\n",
      " Amer Indian Aleut or Eskimo      2404\n",
      "Name: race, dtype: int64\n",
      " All other                    176992\n",
      " Mexican-American               8423\n",
      " Mexican (Mexicano)             7582\n",
      " Central or South American      4170\n",
      " Puerto Rican                   3425\n",
      " Other Spanish                  2602\n",
      " Cuban                          1225\n",
      " NA                              873\n",
      " Chicano                         329\n",
      " Do not know                     305\n",
      "Name: is_hispanic, dtype: int64\n",
      " Children or Armed Forces              126295\n",
      " Full-time schedules                    42777\n",
      " Not in labor force                     28121\n",
      " PT for non-econ reasons usually FT      3549\n",
      " Unemployed full-time                    2537\n",
      " PT for econ reasons usually PT          1243\n",
      " Unemployed part- time                    864\n",
      " PT for econ reasons usually FT           540\n",
      "Name: employment_commitment, dtype: int64\n",
      " Not in universe or children            102139\n",
      " Retail trade                            18035\n",
      " Manufacturing-durable goods              9336\n",
      " Education                                8738\n",
      " Manufacturing-nondurable goods           7229\n",
      " Construction                             6414\n",
      " Finance insurance and real estate        6336\n",
      " Business and repair services             6021\n",
      " Medical except hospital                  4934\n",
      " Public administration                    4706\n",
      " Other professional services              4627\n",
      " Transportation                           4418\n",
      " Hospital services                        4088\n",
      " Wholesale trade                          3846\n",
      " Agriculture                              3155\n",
      " Personal services except private HH      3056\n",
      " Social services                          2675\n",
      " Entertainment                            1778\n",
      " Communications                           1260\n",
      " Utilities and sanitary services          1238\n",
      " Private household services               1026\n",
      " Mining                                    639\n",
      " Forestry and fisheries                    200\n",
      " Armed Forces                               32\n",
      "Name: industry_code_main, dtype: int64\n",
      " Adm support including clerical           15350\n",
      " Professional specialty                   14543\n",
      " Executive admin and managerial           13107\n",
      " Other service                            12852\n",
      " Sales                                    12483\n",
      " Precision production craft & repair      11206\n",
      " Machine operators assmblrs & inspctrs     6648\n",
      " Handlers equip cleaners etc               4340\n",
      " Transportation and material moving        4244\n",
      " Farming forestry and fishing              3270\n",
      " Technicians and related support           3136\n",
      " Protective services                       1700\n",
      " Private household services                 876\n",
      " Armed Forces                                32\n",
      "Name: occupation_code_main, dtype: int64\n",
      " Householder                                        56192\n",
      " Child <18 never marr not in subfamily              49259\n",
      " Spouse of householder                              43557\n",
      " Nonfamily householder                              23245\n",
      " Child 18+ never marr Not in a subfamily            12773\n",
      " Secondary individual                                6488\n",
      " Other Rel 18+ ever marr not in subfamily            2067\n",
      " Grandchild <18 never marr child of subfamily RP     1911\n",
      " Other Rel 18+ never marr not in subfamily           1781\n",
      " Grandchild <18 never marr not in subfamily          1098\n",
      " Child 18+ ever marr Not in a subfamily              1029\n",
      " Child under 18 of RP of unrel subfamily              745\n",
      " RP of unrelated subfamily                            722\n",
      " Other Rel 18+ spouse of subfamily RP                 697\n",
      " Child 18+ ever marr RP of subfamily                  691\n",
      " Other Rel 18+ ever marr RP of subfamily              679\n",
      " Other Rel <18 never marr child of subfamily RP       651\n",
      " Other Rel <18 never marr not in subfamily            622\n",
      " Child 18+ never marr RP of subfamily                 619\n",
      " Grandchild 18+ never marr not in subfamily           401\n",
      " In group quarters                                    184\n",
      " Child 18+ spouse of subfamily RP                     137\n",
      " Other Rel 18+ never marr RP of subfamily             109\n",
      " Child <18 never marr RP of subfamily                  80\n",
      " Spouse of RP of unrelated subfamily                   58\n",
      " Grandchild 18+ ever marr not in subfamily             39\n",
      " Child <18 ever marr not in subfamily                  37\n",
      " Grandchild 18+ spouse of subfamily RP                 11\n",
      " Child <18 ever marr RP of subfamily                   10\n",
      " Grandchild 18+ ever marr RP of subfamily               8\n",
      " Other Rel <18 ever marr RP of subfamily                6\n",
      " Grandchild 18+ never marr RP of subfamily              5\n",
      " Other Rel <18 ever marr not in subfamily               3\n",
      " Other Rel <18 never married RP of subfamily            3\n",
      " Other Rel <18 spouse of subfamily RP                   3\n",
      " Child <18 spouse of subfamily RP                       2\n",
      " Grandchild <18 ever marr not in subfamily              2\n",
      " Grandchild <18 never marr RP of subfamily              2\n",
      "Name: household_stat, dtype: int64\n",
      " Householder                             79457\n",
      " Child under 18 never married            49355\n",
      " Spouse of householder                   43566\n",
      " Child 18 or older                       15250\n",
      " Other relative of householder           10103\n",
      " Nonrelative of householder               8024\n",
      " Group Quarters- Secondary individual      122\n",
      " Child under 18 ever married                49\n",
      "Name: household_summary, dtype: int64\n",
      " Nonfiler                        75134\n",
      " Joint both under 65             70604\n",
      " Single                          39414\n",
      " Joint both 65+                   8787\n",
      " Head of household                7882\n",
      " Joint one under 65 & one 65+     4105\n",
      "Name: tax_status, dtype: int64\n",
      "Native                                          182121\n",
      " Foreign born- Not a citizen of U S              14107\n",
      " Foreign born- U S citizen by naturalization      6204\n",
      " Native- Born abroad of American Parent(s)        1923\n",
      " Native- Born in Puerto Rico or U S Outlying      1571\n",
      "Name: citizenship, dtype: int64\n",
      "US                               182118\n",
      " Mexico                            6073\n",
      " Puerto-Rico                       1458\n",
      " Philippines                        902\n",
      " Cuba                               888\n",
      " Germany                            857\n",
      " El-Salvador                        744\n",
      " Canada                             741\n",
      " Dominican-Republic                 737\n",
      " China                              508\n",
      " South Korea                        487\n",
      " England                            472\n",
      " Italy                              459\n",
      " India                              457\n",
      " Columbia                           455\n",
      " Poland                             385\n",
      " Vietnam                            384\n",
      " Guatemala                          370\n",
      " Jamaica                            352\n",
      " Japan                              350\n",
      " Peru                               277\n",
      " Ecuador                            277\n",
      " Nicaragua                          241\n",
      " Haiti                              225\n",
      " Taiwan                             193\n",
      " Portugal                           178\n",
      " Greece                             160\n",
      " Honduras                           159\n",
      " Iran                               152\n",
      " Ireland                            144\n",
      " France                             129\n",
      " Thailand                           125\n",
      " Hong Kong                          116\n",
      " Laos                               114\n",
      " Outlying-U S (Guam USVI etc)       113\n",
      " Cambodia                           103\n",
      " Trinadad&Tobago                     81\n",
      " Hungary                             80\n",
      " Scotland                            80\n",
      " Yugoslavia                          71\n",
      " Panama                              25\n",
      " Holand-Netherlands                  23\n",
      "Name: country_of_birth_own, dtype: int64\n",
      "US                               163532\n",
      " Mexico                           10442\n",
      " Puerto-Rico                       2765\n",
      " Italy                             2356\n",
      " Canada                            1395\n",
      " Dominican-Republic                1388\n",
      " Germany                           1386\n",
      " Poland                            1261\n",
      " Philippines                       1212\n",
      " Cuba                              1203\n",
      " El-Salvador                       1058\n",
      " China                              877\n",
      " England                            828\n",
      " India                              645\n",
      " Columbia                           637\n",
      " Ireland                            558\n",
      " South Korea                        551\n",
      " Jamaica                            492\n",
      " Guatemala                          479\n",
      " Vietnam                            450\n",
      " Japan                              416\n",
      " Ecuador                            392\n",
      " Greece                             392\n",
      " Portugal                           388\n",
      " Haiti                              355\n",
      " Peru                               349\n",
      " Nicaragua                          341\n",
      " Hungary                            333\n",
      " Scotland                           249\n",
      " Iran                               230\n",
      " Yugoslavia                         222\n",
      " Honduras                           217\n",
      " Cambodia                           212\n",
      " Taiwan                             191\n",
      " France                             188\n",
      " Outlying-U S (Guam USVI etc)       166\n",
      " Laos                               165\n",
      " Trinadad&Tobago                    131\n",
      " Thailand                           116\n",
      " Hong Kong                          113\n",
      " Holand-Netherlands                  52\n",
      " Panama                              29\n",
      "Name: country_of_birth_father, dtype: int64\n",
      "US                               164798\n",
      " Mexico                           10253\n",
      " Puerto-Rico                       2546\n",
      " Italy                             1972\n",
      " Canada                            1504\n",
      " Germany                           1396\n",
      " Philippines                       1299\n",
      " Cuba                              1205\n",
      " Dominican-Republic                1183\n",
      " El-Salvador                       1180\n",
      " Poland                            1164\n",
      " England                            927\n",
      " China                              800\n",
      " Ireland                            667\n",
      " India                              640\n",
      " Columbia                           627\n",
      " South Korea                        623\n",
      " Japan                              506\n",
      " Jamaica                            491\n",
      " Vietnam                            478\n",
      " Guatemala                          477\n",
      " Ecuador                            398\n",
      " Peru                               378\n",
      " Haiti                              363\n",
      " Portugal                           355\n",
      " Nicaragua                          338\n",
      " Hungary                            328\n",
      " Greece                             298\n",
      " Scotland                           257\n",
      " Honduras                           240\n",
      " Taiwan                             222\n",
      " France                             213\n",
      " Iran                               196\n",
      " Yugoslavia                         192\n",
      " Cambodia                           177\n",
      " Laos                               154\n",
      " Outlying-U S (Guam USVI etc)       152\n",
      " Thailand                           134\n",
      " Hong Kong                          110\n",
      " Trinadad&Tobago                    104\n",
      " Holand-Netherlands                  51\n",
      " Panama                              30\n",
      "Name: country_of_birth_mother, dtype: int64\n",
      "unchanged            85320\n",
      " MSA to MSA          11061\n",
      " NonMSA to nonMSA     2894\n",
      " MSA to nonMSA         777\n",
      " NonMSA to MSA         640\n",
      " Not identifiable      436\n",
      " Abroad to MSA         417\n",
      " Abroad to nonMSA       79\n",
      "Name: migration_code_change_in_msa, dtype: int64\n",
      "unchanged                        85320\n",
      " Same county                     10159\n",
      " Different county same state      2941\n",
      " Different state in South         1002\n",
      " Different state in West           733\n",
      " Different state in Midwest        560\n",
      " Abroad                            498\n",
      " Different state in Northeast      411\n",
      "Name: migration_code_move_within_reg, dtype: int64\n",
      "unchanged                          85320\n",
      " Same county                       10159\n",
      " Different county same state        2941\n",
      " Different region                   1206\n",
      " Different state same division      1015\n",
      " Abroad                              498\n",
      " Different division same region      485\n",
      "Name: migration_code_change_in_reg, dtype: int64\n",
      "Same    85320\n",
      " No     16304\n",
      "Name: residence_1_year_ago, dtype: int64\n",
      "Below limit    192928\n",
      "Above limit     12998\n",
      "Name: income_above_limit, dtype: int64\n"
     ]
    }
   ],
   "source": [
    "for col in categorical_columns:\n",
    "    print(train_df[col].value_counts())\n"
   ],
   "metadata": {
    "collapsed": false,
    "pycharm": {
     "name": "#%%\n"
    }
   }
  },
  {
   "cell_type": "code",
   "execution_count": 26,
   "outputs": [
    {
     "name": "stdout",
     "output_type": "stream",
     "text": [
      "gender education 2.9832975262429914e-279 16\n",
      "gender race 9.748425448159573e-20 4\n",
      "gender is_hispanic 1.9536654605811147e-05 9\n",
      "gender citizenship 1.9967231522935473e-07 4\n",
      "gender country_of_birth_own 1.515846548893867e-20 41\n",
      "gender country_of_birth_father 3.9816622163747854e-19 41\n",
      "gender country_of_birth_mother 1.4965384682440754e-14 41\n",
      "gender migration_code_change_in_msa 0.04886723176705639 7\n",
      "gender migration_code_move_within_reg 0.011041994604219419 7\n",
      "gender migration_code_change_in_reg 0.002605406738353371 6\n",
      "gender residence_1_year_ago 0.0031323231822461867 1\n",
      "education gender 2.9832975262429914e-279 16\n",
      "education migration_code_change_in_msa 9.879813291394413e-76 112\n",
      "education migration_code_move_within_reg 4.677417124653236e-87 112\n",
      "education migration_code_change_in_reg 6.94267941655084e-79 96\n",
      "education residence_1_year_ago 5.888273415748079e-31 16\n",
      "class race 2.8646629536794344e-287 28\n",
      "class is_hispanic 6.3997977118640116e-192 63\n",
      "class citizenship 1.0271913350667025e-185 28\n",
      "class country_of_birth_own 5.753329878390048e-208 287\n",
      "class country_of_birth_father 6.692694879155288e-218 287\n",
      "class country_of_birth_mother 3.054290022738662e-215 287\n",
      "class migration_code_change_in_msa 5.262485319265956e-76 49\n",
      "class migration_code_move_within_reg 6.408381765603451e-67 49\n",
      "class migration_code_change_in_reg 1.5911935676548117e-68 42\n",
      "class residence_1_year_ago 2.7598284349777666e-79 7\n",
      "race gender 9.748425448159573e-20 4\n",
      "race class 2.8646629536794344e-287 28\n",
      "race employment_commitment 1.6340947578350836e-103 28\n",
      "race migration_code_move_within_reg 7.559858892758478e-223 28\n",
      "race migration_code_change_in_reg 3.2398171090476275e-208 24\n",
      "race residence_1_year_ago 9.986738986264315e-72 4\n",
      "race income_above_limit 2.494472152236953e-158 4\n",
      "is_hispanic gender 1.9536654605811147e-05 9\n",
      "is_hispanic class 6.3997977118640116e-192 63\n",
      "is_hispanic employment_commitment 8.045910456405544e-172 63\n",
      "is_hispanic migration_code_change_in_msa 1.3741505500360823e-278 63\n",
      "is_hispanic migration_code_move_within_reg 6.098273875597246e-222 63\n",
      "is_hispanic migration_code_change_in_reg 2.398311981673474e-219 54\n",
      "is_hispanic residence_1_year_ago 2.776663078322124e-59 9\n",
      "is_hispanic income_above_limit 4.918110308985526e-206 9\n",
      "employment_commitment race 1.6340947578351763e-103 28\n",
      "employment_commitment is_hispanic 8.045910456405544e-172 63\n",
      "employment_commitment occupation_code_main 4.099619116724264e-307 91\n",
      "employment_commitment citizenship 9.208188823008475e-216 28\n",
      "employment_commitment country_of_birth_own 3.1381581853815633e-184 287\n",
      "employment_commitment country_of_birth_mother 4.5929644084097264e-297 287\n",
      "industry_code_main migration_code_change_in_msa 6.02436220910042e-123 161\n",
      "industry_code_main migration_code_move_within_reg 2.9894297465952054e-91 161\n",
      "industry_code_main migration_code_change_in_reg 7.820336435120538e-92 138\n",
      "industry_code_main residence_1_year_ago 3.5356743377355406e-83 23\n",
      "occupation_code_main employment_commitment 4.099619116724263e-307 91\n",
      "occupation_code_main migration_code_change_in_msa 3.331904817187811e-55 91\n",
      "occupation_code_main migration_code_move_within_reg 1.3915445857639268e-45 91\n",
      "occupation_code_main migration_code_change_in_reg 1.6311092270015017e-45 78\n",
      "occupation_code_main residence_1_year_ago 1.4099892781765236e-25 13\n",
      "tax_status migration_code_change_in_msa 4.425841199037182e-279 35\n",
      "tax_status migration_code_move_within_reg 1.4701090771621119e-288 35\n",
      "tax_status migration_code_change_in_reg 3.5198735097794355e-293 30\n",
      "tax_status residence_1_year_ago 9.559554577723086e-277 5\n",
      "citizenship gender 1.9967231522935473e-07 4\n",
      "citizenship class 1.0271913350667608e-185 28\n",
      "citizenship employment_commitment 9.208188823008475e-216 28\n",
      "citizenship residence_1_year_ago 1.772700640632592e-87 4\n",
      "citizenship income_above_limit 8.370559609805958e-77 4\n",
      "country_of_birth_own gender 1.515846548893867e-20 41\n",
      "country_of_birth_own class 5.753329878390048e-208 287\n",
      "country_of_birth_own employment_commitment 3.1381581853815633e-184 287\n",
      "country_of_birth_own residence_1_year_ago 1.1544978035718593e-54 39\n",
      "country_of_birth_own income_above_limit 4.813565643974285e-126 41\n",
      "country_of_birth_father gender 3.9816622163748427e-19 41\n",
      "country_of_birth_father class 6.69269487915605e-218 287\n",
      "country_of_birth_father residence_1_year_ago 4.430866807023137e-59 39\n",
      "country_of_birth_father income_above_limit 1.0148672331332358e-193 41\n",
      "country_of_birth_mother gender 1.4965384682440754e-14 41\n",
      "country_of_birth_mother class 3.054290022738662e-215 287\n",
      "country_of_birth_mother employment_commitment 4.5929644084097264e-297 287\n",
      "country_of_birth_mother residence_1_year_ago 2.011148461655649e-57 39\n",
      "country_of_birth_mother income_above_limit 3.103423963387651e-200 41\n",
      "migration_code_change_in_msa gender 0.04886723176705641 7\n",
      "migration_code_change_in_msa education 9.879813291394413e-76 112\n",
      "migration_code_change_in_msa class 5.262485319265956e-76 49\n",
      "migration_code_change_in_msa is_hispanic 1.3741505500360823e-278 63\n",
      "migration_code_change_in_msa industry_code_main 6.024362209100761e-123 161\n",
      "migration_code_change_in_msa occupation_code_main 3.331904817187811e-55 91\n",
      "migration_code_change_in_msa tax_status 4.425841199037182e-279 35\n",
      "migration_code_change_in_msa income_above_limit 2.4959022885251607e-33 7\n",
      "migration_code_move_within_reg gender 0.011041994604219419 7\n",
      "migration_code_move_within_reg education 4.677417124653237e-87 112\n",
      "migration_code_move_within_reg class 6.408381765603455e-67 49\n",
      "migration_code_move_within_reg race 7.559858892758478e-223 28\n",
      "migration_code_move_within_reg is_hispanic 6.098273875597246e-222 63\n",
      "migration_code_move_within_reg industry_code_main 2.989429746595034e-91 161\n",
      "migration_code_move_within_reg occupation_code_main 1.3915445857639268e-45 91\n",
      "migration_code_move_within_reg tax_status 1.4701090771619442e-288 35\n",
      "migration_code_move_within_reg income_above_limit 5.5933281972070425e-28 7\n",
      "migration_code_change_in_reg gender 0.002605406738353371 6\n",
      "migration_code_change_in_reg education 6.942679416551236e-79 96\n",
      "migration_code_change_in_reg class 1.5911935676548117e-68 42\n",
      "migration_code_change_in_reg race 3.2398171090476275e-208 24\n",
      "migration_code_change_in_reg is_hispanic 2.3983119816732017e-219 54\n",
      "migration_code_change_in_reg industry_code_main 7.820336435120538e-92 138\n",
      "migration_code_change_in_reg occupation_code_main 1.6311092270015017e-45 78\n",
      "migration_code_change_in_reg tax_status 3.5198735097794355e-293 30\n",
      "migration_code_change_in_reg income_above_limit 3.86447118204361e-28 6\n",
      "residence_1_year_ago gender 0.0031323231822461867 1\n",
      "residence_1_year_ago education 5.8882734157479935e-31 16\n",
      "residence_1_year_ago class 2.7598284349777666e-79 7\n",
      "residence_1_year_ago race 9.986738986264315e-72 4\n",
      "residence_1_year_ago is_hispanic 2.776663078322203e-59 9\n",
      "residence_1_year_ago industry_code_main 3.5356743377355406e-83 23\n",
      "residence_1_year_ago occupation_code_main 1.409989278176504e-25 13\n",
      "residence_1_year_ago tax_status 9.559554577723086e-277 5\n",
      "residence_1_year_ago citizenship 1.772700640632592e-87 4\n",
      "residence_1_year_ago country_of_birth_own 1.1544978035718593e-54 39\n",
      "residence_1_year_ago country_of_birth_father 4.430866807022882e-59 39\n",
      "residence_1_year_ago country_of_birth_mother 2.011148461655764e-57 39\n",
      "residence_1_year_ago income_above_limit 9.19558673470539e-28 1\n",
      "income_above_limit race 2.494472152236953e-158 4\n",
      "income_above_limit is_hispanic 4.9181103089852464e-206 9\n",
      "income_above_limit citizenship 8.370559609805958e-77 4\n",
      "income_above_limit country_of_birth_own 4.8135656439748327e-126 41\n",
      "income_above_limit country_of_birth_father 1.0148672331332358e-193 41\n",
      "income_above_limit country_of_birth_mother 3.1034239633869453e-200 41\n",
      "income_above_limit migration_code_change_in_msa 2.4959022885251607e-33 7\n",
      "income_above_limit migration_code_move_within_reg 5.593328197207122e-28 7\n",
      "income_above_limit migration_code_change_in_reg 3.86447118204361e-28 6\n",
      "income_above_limit residence_1_year_ago 9.19558673470539e-28 1\n"
     ]
    },
    {
     "data": {
      "text/plain": "                                       gender      education          class  \\\ngender                           0.000000e+00  2.983298e-279   0.000000e+00   \neducation                       2.983298e-279   0.000000e+00   0.000000e+00   \nclass                            0.000000e+00   0.000000e+00   0.000000e+00   \nmarital_status                   0.000000e+00   0.000000e+00   0.000000e+00   \nrace                             9.748425e-20   0.000000e+00  2.864663e-287   \nis_hispanic                      1.953665e-05   0.000000e+00  6.399798e-192   \nemployment_commitment            0.000000e+00   0.000000e+00   0.000000e+00   \nindustry_code_main               0.000000e+00   0.000000e+00   0.000000e+00   \noccupation_code_main             0.000000e+00   0.000000e+00   0.000000e+00   \nhousehold_stat                   0.000000e+00   0.000000e+00   0.000000e+00   \nhousehold_summary                0.000000e+00   0.000000e+00   0.000000e+00   \ntax_status                       0.000000e+00   0.000000e+00   0.000000e+00   \ncitizenship                      1.996723e-07   0.000000e+00  1.027191e-185   \ncountry_of_birth_own             1.515847e-20   0.000000e+00  5.753330e-208   \ncountry_of_birth_father          3.981662e-19   0.000000e+00  6.692695e-218   \ncountry_of_birth_mother          1.496538e-14   0.000000e+00  3.054290e-215   \nmigration_code_change_in_msa     4.886723e-02   9.879813e-76   5.262485e-76   \nmigration_code_move_within_reg   1.104199e-02   4.677417e-87   6.408382e-67   \nmigration_code_change_in_reg     2.605407e-03   6.942679e-79   1.591194e-68   \nresidence_1_year_ago             3.132323e-03   5.888273e-31   2.759828e-79   \nincome_above_limit               0.000000e+00   0.000000e+00   0.000000e+00   \n\n                                marital_status           race    is_hispanic  \\\ngender                                     0.0   9.748425e-20   1.953665e-05   \neducation                                  0.0   0.000000e+00   0.000000e+00   \nclass                                      0.0  2.864663e-287  6.399798e-192   \nmarital_status                             0.0   0.000000e+00   0.000000e+00   \nrace                                       0.0   0.000000e+00   0.000000e+00   \nis_hispanic                                0.0   0.000000e+00   0.000000e+00   \nemployment_commitment                      0.0  1.634095e-103  8.045910e-172   \nindustry_code_main                         0.0   0.000000e+00   0.000000e+00   \noccupation_code_main                       0.0   0.000000e+00   0.000000e+00   \nhousehold_stat                             0.0   0.000000e+00   0.000000e+00   \nhousehold_summary                          0.0   0.000000e+00   0.000000e+00   \ntax_status                                 0.0   0.000000e+00   0.000000e+00   \ncitizenship                                0.0   0.000000e+00   0.000000e+00   \ncountry_of_birth_own                       0.0   0.000000e+00   0.000000e+00   \ncountry_of_birth_father                    0.0   0.000000e+00   0.000000e+00   \ncountry_of_birth_mother                    0.0   0.000000e+00   0.000000e+00   \nmigration_code_change_in_msa               0.0   0.000000e+00  1.374151e-278   \nmigration_code_move_within_reg             0.0  7.559859e-223  6.098274e-222   \nmigration_code_change_in_reg               0.0  3.239817e-208  2.398312e-219   \nresidence_1_year_ago                       0.0   9.986739e-72   2.776663e-59   \nincome_above_limit                         0.0  2.494472e-158  4.918110e-206   \n\n                                employment_commitment  industry_code_main  \\\ngender                                   0.000000e+00        0.000000e+00   \neducation                                0.000000e+00        0.000000e+00   \nclass                                    0.000000e+00        0.000000e+00   \nmarital_status                           0.000000e+00        0.000000e+00   \nrace                                    1.634095e-103        0.000000e+00   \nis_hispanic                             8.045910e-172        0.000000e+00   \nemployment_commitment                    0.000000e+00        0.000000e+00   \nindustry_code_main                       0.000000e+00        0.000000e+00   \noccupation_code_main                    4.099619e-307        0.000000e+00   \nhousehold_stat                           0.000000e+00        0.000000e+00   \nhousehold_summary                        0.000000e+00        0.000000e+00   \ntax_status                               0.000000e+00        0.000000e+00   \ncitizenship                             9.208189e-216        0.000000e+00   \ncountry_of_birth_own                    3.138158e-184        0.000000e+00   \ncountry_of_birth_father                  0.000000e+00        0.000000e+00   \ncountry_of_birth_mother                 4.592964e-297        0.000000e+00   \nmigration_code_change_in_msa             1.000000e+00       6.024362e-123   \nmigration_code_move_within_reg           1.000000e+00        2.989430e-91   \nmigration_code_change_in_reg             1.000000e+00        7.820336e-92   \nresidence_1_year_ago                     1.000000e+00        3.535674e-83   \nincome_above_limit                       0.000000e+00        0.000000e+00   \n\n                                occupation_code_main  household_stat  ...  \\\ngender                                  0.000000e+00             0.0  ...   \neducation                               0.000000e+00             0.0  ...   \nclass                                   0.000000e+00             0.0  ...   \nmarital_status                          0.000000e+00             0.0  ...   \nrace                                    0.000000e+00             0.0  ...   \nis_hispanic                             0.000000e+00             0.0  ...   \nemployment_commitment                  4.099619e-307             0.0  ...   \nindustry_code_main                      0.000000e+00             0.0  ...   \noccupation_code_main                    0.000000e+00             0.0  ...   \nhousehold_stat                          0.000000e+00             0.0  ...   \nhousehold_summary                       0.000000e+00             0.0  ...   \ntax_status                              0.000000e+00             0.0  ...   \ncitizenship                             0.000000e+00             0.0  ...   \ncountry_of_birth_own                    0.000000e+00             0.0  ...   \ncountry_of_birth_father                 0.000000e+00             0.0  ...   \ncountry_of_birth_mother                 0.000000e+00             0.0  ...   \nmigration_code_change_in_msa            3.331905e-55             0.0  ...   \nmigration_code_move_within_reg          1.391545e-45             0.0  ...   \nmigration_code_change_in_reg            1.631109e-45             0.0  ...   \nresidence_1_year_ago                    1.409989e-25             0.0  ...   \nincome_above_limit                      0.000000e+00             0.0  ...   \n\n                                   tax_status    citizenship  \\\ngender                           0.000000e+00   1.996723e-07   \neducation                        0.000000e+00   0.000000e+00   \nclass                            0.000000e+00  1.027191e-185   \nmarital_status                   0.000000e+00   0.000000e+00   \nrace                             0.000000e+00   0.000000e+00   \nis_hispanic                      0.000000e+00   0.000000e+00   \nemployment_commitment            0.000000e+00  9.208189e-216   \nindustry_code_main               0.000000e+00   0.000000e+00   \noccupation_code_main             0.000000e+00   0.000000e+00   \nhousehold_stat                   0.000000e+00   0.000000e+00   \nhousehold_summary                0.000000e+00   0.000000e+00   \ntax_status                       0.000000e+00   0.000000e+00   \ncitizenship                      0.000000e+00   0.000000e+00   \ncountry_of_birth_own             0.000000e+00   0.000000e+00   \ncountry_of_birth_father          0.000000e+00   0.000000e+00   \ncountry_of_birth_mother          0.000000e+00   0.000000e+00   \nmigration_code_change_in_msa    4.425841e-279   0.000000e+00   \nmigration_code_move_within_reg  1.470109e-288   0.000000e+00   \nmigration_code_change_in_reg    3.519874e-293   0.000000e+00   \nresidence_1_year_ago            9.559555e-277   1.772701e-87   \nincome_above_limit               0.000000e+00   8.370560e-77   \n\n                                country_of_birth_own  country_of_birth_father  \\\ngender                                  1.515847e-20             3.981662e-19   \neducation                               0.000000e+00             0.000000e+00   \nclass                                  5.753330e-208            6.692695e-218   \nmarital_status                          0.000000e+00             0.000000e+00   \nrace                                    0.000000e+00             0.000000e+00   \nis_hispanic                             0.000000e+00             0.000000e+00   \nemployment_commitment                  3.138158e-184             0.000000e+00   \nindustry_code_main                      0.000000e+00             0.000000e+00   \noccupation_code_main                    0.000000e+00             0.000000e+00   \nhousehold_stat                          0.000000e+00             0.000000e+00   \nhousehold_summary                       0.000000e+00             0.000000e+00   \ntax_status                              0.000000e+00             0.000000e+00   \ncitizenship                             0.000000e+00             0.000000e+00   \ncountry_of_birth_own                    0.000000e+00             0.000000e+00   \ncountry_of_birth_father                 0.000000e+00             0.000000e+00   \ncountry_of_birth_mother                 0.000000e+00             0.000000e+00   \nmigration_code_change_in_msa            0.000000e+00             0.000000e+00   \nmigration_code_move_within_reg          0.000000e+00             0.000000e+00   \nmigration_code_change_in_reg            0.000000e+00             0.000000e+00   \nresidence_1_year_ago                    1.154498e-54             4.430867e-59   \nincome_above_limit                     4.813566e-126            1.014867e-193   \n\n                                country_of_birth_mother  \\\ngender                                     1.496538e-14   \neducation                                  0.000000e+00   \nclass                                     3.054290e-215   \nmarital_status                             0.000000e+00   \nrace                                       0.000000e+00   \nis_hispanic                                0.000000e+00   \nemployment_commitment                     4.592964e-297   \nindustry_code_main                         0.000000e+00   \noccupation_code_main                       0.000000e+00   \nhousehold_stat                             0.000000e+00   \nhousehold_summary                          0.000000e+00   \ntax_status                                 0.000000e+00   \ncitizenship                                0.000000e+00   \ncountry_of_birth_own                       0.000000e+00   \ncountry_of_birth_father                    0.000000e+00   \ncountry_of_birth_mother                    0.000000e+00   \nmigration_code_change_in_msa               0.000000e+00   \nmigration_code_move_within_reg             0.000000e+00   \nmigration_code_change_in_reg               0.000000e+00   \nresidence_1_year_ago                       2.011148e-57   \nincome_above_limit                        3.103424e-200   \n\n                                migration_code_change_in_msa  \\\ngender                                          4.886723e-02   \neducation                                       9.879813e-76   \nclass                                           5.262485e-76   \nmarital_status                                  0.000000e+00   \nrace                                            0.000000e+00   \nis_hispanic                                    1.374151e-278   \nemployment_commitment                           1.000000e+00   \nindustry_code_main                             6.024362e-123   \noccupation_code_main                            3.331905e-55   \nhousehold_stat                                  0.000000e+00   \nhousehold_summary                               0.000000e+00   \ntax_status                                     4.425841e-279   \ncitizenship                                     0.000000e+00   \ncountry_of_birth_own                            0.000000e+00   \ncountry_of_birth_father                         0.000000e+00   \ncountry_of_birth_mother                         0.000000e+00   \nmigration_code_change_in_msa                    0.000000e+00   \nmigration_code_move_within_reg                  0.000000e+00   \nmigration_code_change_in_reg                    0.000000e+00   \nresidence_1_year_ago                            0.000000e+00   \nincome_above_limit                              2.495902e-33   \n\n                                migration_code_move_within_reg  \\\ngender                                            1.104199e-02   \neducation                                         4.677417e-87   \nclass                                             6.408382e-67   \nmarital_status                                    0.000000e+00   \nrace                                             7.559859e-223   \nis_hispanic                                      6.098274e-222   \nemployment_commitment                             1.000000e+00   \nindustry_code_main                                2.989430e-91   \noccupation_code_main                              1.391545e-45   \nhousehold_stat                                    0.000000e+00   \nhousehold_summary                                 0.000000e+00   \ntax_status                                       1.470109e-288   \ncitizenship                                       0.000000e+00   \ncountry_of_birth_own                              0.000000e+00   \ncountry_of_birth_father                           0.000000e+00   \ncountry_of_birth_mother                           0.000000e+00   \nmigration_code_change_in_msa                      0.000000e+00   \nmigration_code_move_within_reg                    0.000000e+00   \nmigration_code_change_in_reg                      0.000000e+00   \nresidence_1_year_ago                              0.000000e+00   \nincome_above_limit                                5.593328e-28   \n\n                                migration_code_change_in_reg  \\\ngender                                          2.605407e-03   \neducation                                       6.942679e-79   \nclass                                           1.591194e-68   \nmarital_status                                  0.000000e+00   \nrace                                           3.239817e-208   \nis_hispanic                                    2.398312e-219   \nemployment_commitment                           1.000000e+00   \nindustry_code_main                              7.820336e-92   \noccupation_code_main                            1.631109e-45   \nhousehold_stat                                  0.000000e+00   \nhousehold_summary                               0.000000e+00   \ntax_status                                     3.519874e-293   \ncitizenship                                     0.000000e+00   \ncountry_of_birth_own                            0.000000e+00   \ncountry_of_birth_father                         0.000000e+00   \ncountry_of_birth_mother                         0.000000e+00   \nmigration_code_change_in_msa                    0.000000e+00   \nmigration_code_move_within_reg                  0.000000e+00   \nmigration_code_change_in_reg                    0.000000e+00   \nresidence_1_year_ago                            0.000000e+00   \nincome_above_limit                              3.864471e-28   \n\n                                residence_1_year_ago  income_above_limit  \ngender                                  3.132323e-03        0.000000e+00  \neducation                               5.888273e-31        0.000000e+00  \nclass                                   2.759828e-79        0.000000e+00  \nmarital_status                          0.000000e+00        0.000000e+00  \nrace                                    9.986739e-72       2.494472e-158  \nis_hispanic                             2.776663e-59       4.918110e-206  \nemployment_commitment                   1.000000e+00        0.000000e+00  \nindustry_code_main                      3.535674e-83        0.000000e+00  \noccupation_code_main                    1.409989e-25        0.000000e+00  \nhousehold_stat                          0.000000e+00        0.000000e+00  \nhousehold_summary                       0.000000e+00        0.000000e+00  \ntax_status                             9.559555e-277        0.000000e+00  \ncitizenship                             1.772701e-87        8.370560e-77  \ncountry_of_birth_own                    1.154498e-54       4.813566e-126  \ncountry_of_birth_father                 4.430867e-59       1.014867e-193  \ncountry_of_birth_mother                 2.011148e-57       3.103424e-200  \nmigration_code_change_in_msa            0.000000e+00        2.495902e-33  \nmigration_code_move_within_reg          0.000000e+00        5.593328e-28  \nmigration_code_change_in_reg            0.000000e+00        3.864471e-28  \nresidence_1_year_ago                    0.000000e+00        9.195587e-28  \nincome_above_limit                      9.195587e-28        0.000000e+00  \n\n[21 rows x 21 columns]",
      "text/html": "<div>\n<style scoped>\n    .dataframe tbody tr th:only-of-type {\n        vertical-align: middle;\n    }\n\n    .dataframe tbody tr th {\n        vertical-align: top;\n    }\n\n    .dataframe thead th {\n        text-align: right;\n    }\n</style>\n<table border=\"1\" class=\"dataframe\">\n  <thead>\n    <tr style=\"text-align: right;\">\n      <th></th>\n      <th>gender</th>\n      <th>education</th>\n      <th>class</th>\n      <th>marital_status</th>\n      <th>race</th>\n      <th>is_hispanic</th>\n      <th>employment_commitment</th>\n      <th>industry_code_main</th>\n      <th>occupation_code_main</th>\n      <th>household_stat</th>\n      <th>...</th>\n      <th>tax_status</th>\n      <th>citizenship</th>\n      <th>country_of_birth_own</th>\n      <th>country_of_birth_father</th>\n      <th>country_of_birth_mother</th>\n      <th>migration_code_change_in_msa</th>\n      <th>migration_code_move_within_reg</th>\n      <th>migration_code_change_in_reg</th>\n      <th>residence_1_year_ago</th>\n      <th>income_above_limit</th>\n    </tr>\n  </thead>\n  <tbody>\n    <tr>\n      <th>gender</th>\n      <td>0.000000e+00</td>\n      <td>2.983298e-279</td>\n      <td>0.000000e+00</td>\n      <td>0.0</td>\n      <td>9.748425e-20</td>\n      <td>1.953665e-05</td>\n      <td>0.000000e+00</td>\n      <td>0.000000e+00</td>\n      <td>0.000000e+00</td>\n      <td>0.0</td>\n      <td>...</td>\n      <td>0.000000e+00</td>\n      <td>1.996723e-07</td>\n      <td>1.515847e-20</td>\n      <td>3.981662e-19</td>\n      <td>1.496538e-14</td>\n      <td>4.886723e-02</td>\n      <td>1.104199e-02</td>\n      <td>2.605407e-03</td>\n      <td>3.132323e-03</td>\n      <td>0.000000e+00</td>\n    </tr>\n    <tr>\n      <th>education</th>\n      <td>2.983298e-279</td>\n      <td>0.000000e+00</td>\n      <td>0.000000e+00</td>\n      <td>0.0</td>\n      <td>0.000000e+00</td>\n      <td>0.000000e+00</td>\n      <td>0.000000e+00</td>\n      <td>0.000000e+00</td>\n      <td>0.000000e+00</td>\n      <td>0.0</td>\n      <td>...</td>\n      <td>0.000000e+00</td>\n      <td>0.000000e+00</td>\n      <td>0.000000e+00</td>\n      <td>0.000000e+00</td>\n      <td>0.000000e+00</td>\n      <td>9.879813e-76</td>\n      <td>4.677417e-87</td>\n      <td>6.942679e-79</td>\n      <td>5.888273e-31</td>\n      <td>0.000000e+00</td>\n    </tr>\n    <tr>\n      <th>class</th>\n      <td>0.000000e+00</td>\n      <td>0.000000e+00</td>\n      <td>0.000000e+00</td>\n      <td>0.0</td>\n      <td>2.864663e-287</td>\n      <td>6.399798e-192</td>\n      <td>0.000000e+00</td>\n      <td>0.000000e+00</td>\n      <td>0.000000e+00</td>\n      <td>0.0</td>\n      <td>...</td>\n      <td>0.000000e+00</td>\n      <td>1.027191e-185</td>\n      <td>5.753330e-208</td>\n      <td>6.692695e-218</td>\n      <td>3.054290e-215</td>\n      <td>5.262485e-76</td>\n      <td>6.408382e-67</td>\n      <td>1.591194e-68</td>\n      <td>2.759828e-79</td>\n      <td>0.000000e+00</td>\n    </tr>\n    <tr>\n      <th>marital_status</th>\n      <td>0.000000e+00</td>\n      <td>0.000000e+00</td>\n      <td>0.000000e+00</td>\n      <td>0.0</td>\n      <td>0.000000e+00</td>\n      <td>0.000000e+00</td>\n      <td>0.000000e+00</td>\n      <td>0.000000e+00</td>\n      <td>0.000000e+00</td>\n      <td>0.0</td>\n      <td>...</td>\n      <td>0.000000e+00</td>\n      <td>0.000000e+00</td>\n      <td>0.000000e+00</td>\n      <td>0.000000e+00</td>\n      <td>0.000000e+00</td>\n      <td>0.000000e+00</td>\n      <td>0.000000e+00</td>\n      <td>0.000000e+00</td>\n      <td>0.000000e+00</td>\n      <td>0.000000e+00</td>\n    </tr>\n    <tr>\n      <th>race</th>\n      <td>9.748425e-20</td>\n      <td>0.000000e+00</td>\n      <td>2.864663e-287</td>\n      <td>0.0</td>\n      <td>0.000000e+00</td>\n      <td>0.000000e+00</td>\n      <td>1.634095e-103</td>\n      <td>0.000000e+00</td>\n      <td>0.000000e+00</td>\n      <td>0.0</td>\n      <td>...</td>\n      <td>0.000000e+00</td>\n      <td>0.000000e+00</td>\n      <td>0.000000e+00</td>\n      <td>0.000000e+00</td>\n      <td>0.000000e+00</td>\n      <td>0.000000e+00</td>\n      <td>7.559859e-223</td>\n      <td>3.239817e-208</td>\n      <td>9.986739e-72</td>\n      <td>2.494472e-158</td>\n    </tr>\n    <tr>\n      <th>is_hispanic</th>\n      <td>1.953665e-05</td>\n      <td>0.000000e+00</td>\n      <td>6.399798e-192</td>\n      <td>0.0</td>\n      <td>0.000000e+00</td>\n      <td>0.000000e+00</td>\n      <td>8.045910e-172</td>\n      <td>0.000000e+00</td>\n      <td>0.000000e+00</td>\n      <td>0.0</td>\n      <td>...</td>\n      <td>0.000000e+00</td>\n      <td>0.000000e+00</td>\n      <td>0.000000e+00</td>\n      <td>0.000000e+00</td>\n      <td>0.000000e+00</td>\n      <td>1.374151e-278</td>\n      <td>6.098274e-222</td>\n      <td>2.398312e-219</td>\n      <td>2.776663e-59</td>\n      <td>4.918110e-206</td>\n    </tr>\n    <tr>\n      <th>employment_commitment</th>\n      <td>0.000000e+00</td>\n      <td>0.000000e+00</td>\n      <td>0.000000e+00</td>\n      <td>0.0</td>\n      <td>1.634095e-103</td>\n      <td>8.045910e-172</td>\n      <td>0.000000e+00</td>\n      <td>0.000000e+00</td>\n      <td>4.099619e-307</td>\n      <td>0.0</td>\n      <td>...</td>\n      <td>0.000000e+00</td>\n      <td>9.208189e-216</td>\n      <td>3.138158e-184</td>\n      <td>0.000000e+00</td>\n      <td>4.592964e-297</td>\n      <td>1.000000e+00</td>\n      <td>1.000000e+00</td>\n      <td>1.000000e+00</td>\n      <td>1.000000e+00</td>\n      <td>0.000000e+00</td>\n    </tr>\n    <tr>\n      <th>industry_code_main</th>\n      <td>0.000000e+00</td>\n      <td>0.000000e+00</td>\n      <td>0.000000e+00</td>\n      <td>0.0</td>\n      <td>0.000000e+00</td>\n      <td>0.000000e+00</td>\n      <td>0.000000e+00</td>\n      <td>0.000000e+00</td>\n      <td>0.000000e+00</td>\n      <td>0.0</td>\n      <td>...</td>\n      <td>0.000000e+00</td>\n      <td>0.000000e+00</td>\n      <td>0.000000e+00</td>\n      <td>0.000000e+00</td>\n      <td>0.000000e+00</td>\n      <td>6.024362e-123</td>\n      <td>2.989430e-91</td>\n      <td>7.820336e-92</td>\n      <td>3.535674e-83</td>\n      <td>0.000000e+00</td>\n    </tr>\n    <tr>\n      <th>occupation_code_main</th>\n      <td>0.000000e+00</td>\n      <td>0.000000e+00</td>\n      <td>0.000000e+00</td>\n      <td>0.0</td>\n      <td>0.000000e+00</td>\n      <td>0.000000e+00</td>\n      <td>4.099619e-307</td>\n      <td>0.000000e+00</td>\n      <td>0.000000e+00</td>\n      <td>0.0</td>\n      <td>...</td>\n      <td>0.000000e+00</td>\n      <td>0.000000e+00</td>\n      <td>0.000000e+00</td>\n      <td>0.000000e+00</td>\n      <td>0.000000e+00</td>\n      <td>3.331905e-55</td>\n      <td>1.391545e-45</td>\n      <td>1.631109e-45</td>\n      <td>1.409989e-25</td>\n      <td>0.000000e+00</td>\n    </tr>\n    <tr>\n      <th>household_stat</th>\n      <td>0.000000e+00</td>\n      <td>0.000000e+00</td>\n      <td>0.000000e+00</td>\n      <td>0.0</td>\n      <td>0.000000e+00</td>\n      <td>0.000000e+00</td>\n      <td>0.000000e+00</td>\n      <td>0.000000e+00</td>\n      <td>0.000000e+00</td>\n      <td>0.0</td>\n      <td>...</td>\n      <td>0.000000e+00</td>\n      <td>0.000000e+00</td>\n      <td>0.000000e+00</td>\n      <td>0.000000e+00</td>\n      <td>0.000000e+00</td>\n      <td>0.000000e+00</td>\n      <td>0.000000e+00</td>\n      <td>0.000000e+00</td>\n      <td>0.000000e+00</td>\n      <td>0.000000e+00</td>\n    </tr>\n    <tr>\n      <th>household_summary</th>\n      <td>0.000000e+00</td>\n      <td>0.000000e+00</td>\n      <td>0.000000e+00</td>\n      <td>0.0</td>\n      <td>0.000000e+00</td>\n      <td>0.000000e+00</td>\n      <td>0.000000e+00</td>\n      <td>0.000000e+00</td>\n      <td>0.000000e+00</td>\n      <td>0.0</td>\n      <td>...</td>\n      <td>0.000000e+00</td>\n      <td>0.000000e+00</td>\n      <td>0.000000e+00</td>\n      <td>0.000000e+00</td>\n      <td>0.000000e+00</td>\n      <td>0.000000e+00</td>\n      <td>0.000000e+00</td>\n      <td>0.000000e+00</td>\n      <td>0.000000e+00</td>\n      <td>0.000000e+00</td>\n    </tr>\n    <tr>\n      <th>tax_status</th>\n      <td>0.000000e+00</td>\n      <td>0.000000e+00</td>\n      <td>0.000000e+00</td>\n      <td>0.0</td>\n      <td>0.000000e+00</td>\n      <td>0.000000e+00</td>\n      <td>0.000000e+00</td>\n      <td>0.000000e+00</td>\n      <td>0.000000e+00</td>\n      <td>0.0</td>\n      <td>...</td>\n      <td>0.000000e+00</td>\n      <td>0.000000e+00</td>\n      <td>0.000000e+00</td>\n      <td>0.000000e+00</td>\n      <td>0.000000e+00</td>\n      <td>4.425841e-279</td>\n      <td>1.470109e-288</td>\n      <td>3.519874e-293</td>\n      <td>9.559555e-277</td>\n      <td>0.000000e+00</td>\n    </tr>\n    <tr>\n      <th>citizenship</th>\n      <td>1.996723e-07</td>\n      <td>0.000000e+00</td>\n      <td>1.027191e-185</td>\n      <td>0.0</td>\n      <td>0.000000e+00</td>\n      <td>0.000000e+00</td>\n      <td>9.208189e-216</td>\n      <td>0.000000e+00</td>\n      <td>0.000000e+00</td>\n      <td>0.0</td>\n      <td>...</td>\n      <td>0.000000e+00</td>\n      <td>0.000000e+00</td>\n      <td>0.000000e+00</td>\n      <td>0.000000e+00</td>\n      <td>0.000000e+00</td>\n      <td>0.000000e+00</td>\n      <td>0.000000e+00</td>\n      <td>0.000000e+00</td>\n      <td>1.772701e-87</td>\n      <td>8.370560e-77</td>\n    </tr>\n    <tr>\n      <th>country_of_birth_own</th>\n      <td>1.515847e-20</td>\n      <td>0.000000e+00</td>\n      <td>5.753330e-208</td>\n      <td>0.0</td>\n      <td>0.000000e+00</td>\n      <td>0.000000e+00</td>\n      <td>3.138158e-184</td>\n      <td>0.000000e+00</td>\n      <td>0.000000e+00</td>\n      <td>0.0</td>\n      <td>...</td>\n      <td>0.000000e+00</td>\n      <td>0.000000e+00</td>\n      <td>0.000000e+00</td>\n      <td>0.000000e+00</td>\n      <td>0.000000e+00</td>\n      <td>0.000000e+00</td>\n      <td>0.000000e+00</td>\n      <td>0.000000e+00</td>\n      <td>1.154498e-54</td>\n      <td>4.813566e-126</td>\n    </tr>\n    <tr>\n      <th>country_of_birth_father</th>\n      <td>3.981662e-19</td>\n      <td>0.000000e+00</td>\n      <td>6.692695e-218</td>\n      <td>0.0</td>\n      <td>0.000000e+00</td>\n      <td>0.000000e+00</td>\n      <td>0.000000e+00</td>\n      <td>0.000000e+00</td>\n      <td>0.000000e+00</td>\n      <td>0.0</td>\n      <td>...</td>\n      <td>0.000000e+00</td>\n      <td>0.000000e+00</td>\n      <td>0.000000e+00</td>\n      <td>0.000000e+00</td>\n      <td>0.000000e+00</td>\n      <td>0.000000e+00</td>\n      <td>0.000000e+00</td>\n      <td>0.000000e+00</td>\n      <td>4.430867e-59</td>\n      <td>1.014867e-193</td>\n    </tr>\n    <tr>\n      <th>country_of_birth_mother</th>\n      <td>1.496538e-14</td>\n      <td>0.000000e+00</td>\n      <td>3.054290e-215</td>\n      <td>0.0</td>\n      <td>0.000000e+00</td>\n      <td>0.000000e+00</td>\n      <td>4.592964e-297</td>\n      <td>0.000000e+00</td>\n      <td>0.000000e+00</td>\n      <td>0.0</td>\n      <td>...</td>\n      <td>0.000000e+00</td>\n      <td>0.000000e+00</td>\n      <td>0.000000e+00</td>\n      <td>0.000000e+00</td>\n      <td>0.000000e+00</td>\n      <td>0.000000e+00</td>\n      <td>0.000000e+00</td>\n      <td>0.000000e+00</td>\n      <td>2.011148e-57</td>\n      <td>3.103424e-200</td>\n    </tr>\n    <tr>\n      <th>migration_code_change_in_msa</th>\n      <td>4.886723e-02</td>\n      <td>9.879813e-76</td>\n      <td>5.262485e-76</td>\n      <td>0.0</td>\n      <td>0.000000e+00</td>\n      <td>1.374151e-278</td>\n      <td>1.000000e+00</td>\n      <td>6.024362e-123</td>\n      <td>3.331905e-55</td>\n      <td>0.0</td>\n      <td>...</td>\n      <td>4.425841e-279</td>\n      <td>0.000000e+00</td>\n      <td>0.000000e+00</td>\n      <td>0.000000e+00</td>\n      <td>0.000000e+00</td>\n      <td>0.000000e+00</td>\n      <td>0.000000e+00</td>\n      <td>0.000000e+00</td>\n      <td>0.000000e+00</td>\n      <td>2.495902e-33</td>\n    </tr>\n    <tr>\n      <th>migration_code_move_within_reg</th>\n      <td>1.104199e-02</td>\n      <td>4.677417e-87</td>\n      <td>6.408382e-67</td>\n      <td>0.0</td>\n      <td>7.559859e-223</td>\n      <td>6.098274e-222</td>\n      <td>1.000000e+00</td>\n      <td>2.989430e-91</td>\n      <td>1.391545e-45</td>\n      <td>0.0</td>\n      <td>...</td>\n      <td>1.470109e-288</td>\n      <td>0.000000e+00</td>\n      <td>0.000000e+00</td>\n      <td>0.000000e+00</td>\n      <td>0.000000e+00</td>\n      <td>0.000000e+00</td>\n      <td>0.000000e+00</td>\n      <td>0.000000e+00</td>\n      <td>0.000000e+00</td>\n      <td>5.593328e-28</td>\n    </tr>\n    <tr>\n      <th>migration_code_change_in_reg</th>\n      <td>2.605407e-03</td>\n      <td>6.942679e-79</td>\n      <td>1.591194e-68</td>\n      <td>0.0</td>\n      <td>3.239817e-208</td>\n      <td>2.398312e-219</td>\n      <td>1.000000e+00</td>\n      <td>7.820336e-92</td>\n      <td>1.631109e-45</td>\n      <td>0.0</td>\n      <td>...</td>\n      <td>3.519874e-293</td>\n      <td>0.000000e+00</td>\n      <td>0.000000e+00</td>\n      <td>0.000000e+00</td>\n      <td>0.000000e+00</td>\n      <td>0.000000e+00</td>\n      <td>0.000000e+00</td>\n      <td>0.000000e+00</td>\n      <td>0.000000e+00</td>\n      <td>3.864471e-28</td>\n    </tr>\n    <tr>\n      <th>residence_1_year_ago</th>\n      <td>3.132323e-03</td>\n      <td>5.888273e-31</td>\n      <td>2.759828e-79</td>\n      <td>0.0</td>\n      <td>9.986739e-72</td>\n      <td>2.776663e-59</td>\n      <td>1.000000e+00</td>\n      <td>3.535674e-83</td>\n      <td>1.409989e-25</td>\n      <td>0.0</td>\n      <td>...</td>\n      <td>9.559555e-277</td>\n      <td>1.772701e-87</td>\n      <td>1.154498e-54</td>\n      <td>4.430867e-59</td>\n      <td>2.011148e-57</td>\n      <td>0.000000e+00</td>\n      <td>0.000000e+00</td>\n      <td>0.000000e+00</td>\n      <td>0.000000e+00</td>\n      <td>9.195587e-28</td>\n    </tr>\n    <tr>\n      <th>income_above_limit</th>\n      <td>0.000000e+00</td>\n      <td>0.000000e+00</td>\n      <td>0.000000e+00</td>\n      <td>0.0</td>\n      <td>2.494472e-158</td>\n      <td>4.918110e-206</td>\n      <td>0.000000e+00</td>\n      <td>0.000000e+00</td>\n      <td>0.000000e+00</td>\n      <td>0.0</td>\n      <td>...</td>\n      <td>0.000000e+00</td>\n      <td>8.370560e-77</td>\n      <td>4.813566e-126</td>\n      <td>1.014867e-193</td>\n      <td>3.103424e-200</td>\n      <td>2.495902e-33</td>\n      <td>5.593328e-28</td>\n      <td>3.864471e-28</td>\n      <td>9.195587e-28</td>\n      <td>0.000000e+00</td>\n    </tr>\n  </tbody>\n</table>\n<p>21 rows × 21 columns</p>\n</div>"
     },
     "execution_count": 26,
     "metadata": {},
     "output_type": "execute_result"
    }
   ],
   "source": [
    "from scipy.stats import chi2_contingency\n",
    "x=len(categorical_columns)\n",
    "factors_paired = [(i,j) for i in categorical_columns for j in categorical_columns]\n",
    "chi2, p_values =[], []\n",
    "for f in factors_paired:\n",
    "    if f[0] != f[1]:\n",
    "        chitest = chi2_contingency(pd.crosstab(train_df[f[0]], train_df[f[1]]))\n",
    "        chi2.append(chitest[0])\n",
    "        p_values.append(chitest[1])\n",
    "        if chitest[1] < 0.05 and chitest[1]!=0:\n",
    "            print(f[0],f[1],chitest[1],chitest[2])\n",
    "    else:\n",
    "        chi2.append(0)\n",
    "        p_values.append(0)\n",
    "\n",
    "p1 = np.array(p_values).reshape(x,x)\n",
    "p1 = pd.DataFrame(p1, index=categorical_columns, columns=categorical_columns)\n",
    "p1"
   ],
   "metadata": {
    "collapsed": false,
    "pycharm": {
     "name": "#%%\n"
    }
   }
  },
  {
   "cell_type": "code",
   "execution_count": null,
   "outputs": [],
   "source": [
    "for col in missing_values_train_df.index.tolist():\n",
    "       train_df[col] = train_df[col].fillna(train_df[col].mode()[0])\n",
    "       test_df[col] = test_df[col].fillna(test_df[col].mode()[0])"
   ],
   "metadata": {
    "collapsed": false,
    "pycharm": {
     "name": "#%%\n"
    }
   }
  },
  {
   "cell_type": "code",
   "execution_count": null,
   "outputs": [],
   "source": [
    "train_df.plot(kind=\"density\",subplots=True,sharex=False,layout=(6,3),figsize=(18,15))\n",
    "plt.show()"
   ],
   "metadata": {
    "collapsed": false,
    "pycharm": {
     "name": "#%%\n"
    }
   }
  },
  {
   "cell_type": "code",
   "execution_count": null,
   "outputs": [],
   "source": [
    "train_df.plot(kind=\"box\",subplots=True,sharex=False,layout=(6,3),figsize=(18,27))\n",
    "plt.show()"
   ],
   "metadata": {
    "collapsed": false,
    "pycharm": {
     "name": "#%%\n"
    }
   }
  },
  {
   "cell_type": "code",
   "execution_count": null,
   "outputs": [],
   "source": [
    "X= train_df.drop(\"income_above_limit\",axis=1)\n",
    "Y = train_df[\"income_above_limit\"]\n",
    "Q1=X.quantile(0.25)\n",
    "Q3 =X.quantile(0.75)\n",
    "IQR= Q3-Q1\n",
    "\n",
    "train_df_iqr=train_df[~((train_df<Q1-1.5*IQR)|(train_df>Q3+1.5*IQR)).any(axis=1)]\n",
    "train_df_iqr.plot(kind=\"box\",subplots=True,sharex=False,layout=(6,3),figsize=(18,27))\n",
    "plt.show()"
   ],
   "metadata": {
    "collapsed": false,
    "pycharm": {
     "name": "#%%\n"
    }
   }
  },
  {
   "cell_type": "code",
   "execution_count": null,
   "outputs": [],
   "source": [
    "train_df_iqr.shape"
   ],
   "metadata": {
    "collapsed": false,
    "pycharm": {
     "name": "#%%\n"
    }
   }
  },
  {
   "cell_type": "code",
   "execution_count": null,
   "outputs": [],
   "source": [
    "plt.figure(figsize=(18,15))\n",
    "sns.heatmap(train_df_iqr.corr(),annot=True)\n",
    "plt.show()"
   ],
   "metadata": {
    "collapsed": false,
    "pycharm": {
     "name": "#%%\n"
    }
   }
  },
  {
   "cell_type": "code",
   "execution_count": null,
   "outputs": [],
   "source": [
    "from sklearn.model_selection import train_test_split\n",
    "\n",
    "X= train_df_iqr.drop(\"income_above_limit\",axis=1)\n",
    "y = train_df_iqr[\"income_above_limit\"].map({'Above limit':1,'Below limit':0})\n",
    "y"
   ],
   "metadata": {
    "collapsed": false,
    "pycharm": {
     "name": "#%%\n"
    }
   }
  },
  {
   "cell_type": "code",
   "execution_count": null,
   "outputs": [],
   "source": [
    "from collections import Counter\n",
    "\n",
    "X_train,X_test,y_train,y_test= train_test_split(X,y,test_size=0.33,random_state=1)\n",
    "def calc_class_percentage(y_train):\n",
    "    counter = Counter(y_train)\n",
    "    print(\"=============================\")\n",
    "    for k,v in counter.items():\n",
    "        per = 100*v/len(y_train)\n",
    "        print(f\"Class= {k}, n={v} ({per:.2f}%)\")"
   ],
   "metadata": {
    "collapsed": false,
    "pycharm": {
     "name": "#%%\n"
    }
   }
  },
  {
   "cell_type": "code",
   "execution_count": null,
   "outputs": [],
   "source": [
    "from imblearn.over_sampling import SMOTE\n",
    "\n",
    "calc_class_percentage(y_train)\n",
    "smote = SMOTE()\n",
    "X_train,y_train=smote.fit_resample(X_train,y_train)\n",
    "calc_class_percentage(y_train)"
   ],
   "metadata": {
    "collapsed": false,
    "pycharm": {
     "name": "#%%\n"
    }
   }
  },
  {
   "cell_type": "code",
   "execution_count": null,
   "outputs": [],
   "source": [],
   "metadata": {
    "collapsed": false,
    "pycharm": {
     "name": "#%%\n"
    }
   }
  }
 ],
 "metadata": {
  "kernelspec": {
   "display_name": "Python 3",
   "language": "python",
   "name": "python3"
  },
  "language_info": {
   "codemirror_mode": {
    "name": "ipython",
    "version": 2
   },
   "file_extension": ".py",
   "mimetype": "text/x-python",
   "name": "python",
   "nbconvert_exporter": "python",
   "pygments_lexer": "ipython2",
   "version": "2.7.6"
  }
 },
 "nbformat": 4,
 "nbformat_minor": 0
}